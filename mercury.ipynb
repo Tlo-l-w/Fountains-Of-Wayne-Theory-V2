{
 "cells": [
  {
   "cell_type": "code",
   "execution_count": 5,
   "id": "35e96b79-31fa-472b-b4a4-a78869459a10",
   "metadata": {},
   "outputs": [
    {
     "name": "stdout",
     "output_type": "stream",
     "text": [
      "Requirement already satisfied: playwright-stealth in /Users/T/.pyenv/versions/3.11.8/lib/python3.11/site-packages (1.0.6)\n",
      "Requirement already satisfied: playwright in /Users/T/.pyenv/versions/3.11.8/lib/python3.11/site-packages (from playwright-stealth) (1.45.0)\n",
      "Requirement already satisfied: greenlet==3.0.3 in /Users/T/.pyenv/versions/3.11.8/lib/python3.11/site-packages (from playwright->playwright-stealth) (3.0.3)\n",
      "Requirement already satisfied: pyee==11.1.0 in /Users/T/.pyenv/versions/3.11.8/lib/python3.11/site-packages (from playwright->playwright-stealth) (11.1.0)\n",
      "Requirement already satisfied: typing-extensions in /Users/T/.pyenv/versions/3.11.8/lib/python3.11/site-packages (from pyee==11.1.0->playwright->playwright-stealth) (4.12.1)\n",
      "\n",
      "\u001b[1m[\u001b[0m\u001b[34;49mnotice\u001b[0m\u001b[1;39;49m]\u001b[0m\u001b[39;49m A new release of pip is available: \u001b[0m\u001b[31;49m24.0\u001b[0m\u001b[39;49m -> \u001b[0m\u001b[32;49m24.2\u001b[0m\n",
      "\u001b[1m[\u001b[0m\u001b[34;49mnotice\u001b[0m\u001b[1;39;49m]\u001b[0m\u001b[39;49m To update, run: \u001b[0m\u001b[32;49mpip install --upgrade pip\u001b[0m\n"
     ]
    }
   ],
   "source": [
    "import mercury as mr\n",
    "!pip install playwright-stealth"
   ]
  },
  {
   "cell_type": "code",
   "execution_count": 6,
   "id": "8deeccc1-7ebc-490f-90fb-fffdb1ff3767",
   "metadata": {},
   "outputs": [
    {
     "data": {
      "application/mercury+json": "{\n    \"widget\": \"App\",\n    \"title\": \"A Spotify Scraper\",\n    \"description\": \"let's pray mercury works\",\n    \"show_code\": false,\n    \"show_prompt\": false,\n    \"output\": \"app\",\n    \"schedule\": \"\",\n    \"notify\": \"{}\",\n    \"continuous_update\": true,\n    \"static_notebook\": false,\n    \"show_sidebar\": true,\n    \"full_screen\": true,\n    \"allow_download\": true,\n    \"allow_share\": true,\n    \"stop_on_error\": false,\n    \"model_id\": \"mercury-app\",\n    \"code_uid\": \"App.0.50.110.1-rand48f6ef56\"\n}",
      "text/html": [
       "<h3>Mercury Application</h3><small>This output won't appear in the web app.</small>"
      ],
      "text/plain": [
       "mercury.App"
      ]
     },
     "metadata": {},
     "output_type": "display_data"
    }
   ],
   "source": [
    "app = mr.App(title=\"A Spotify Scraper\", description =\"let's pray mercury works\")"
   ]
  },
  {
   "cell_type": "code",
   "execution_count": 28,
   "id": "a7f65531-15aa-4695-ba14-d94ed147c3da",
   "metadata": {},
   "outputs": [
    {
     "data": {
      "application/mercury+json": "{\n    \"widget\": \"Text\",\n    \"value\": \"Caravan Palace\",\n    \"sanitize\": true,\n    \"rows\": 1,\n    \"label\": \"Artist Name:\",\n    \"model_id\": \"ac229d17bbd84da68231d611a7b44607\",\n    \"code_uid\": \"Text.0.50.78.1-rand84488825\",\n    \"url_key\": \"\",\n    \"disabled\": false,\n    \"hidden\": false\n}",
      "application/vnd.jupyter.widget-view+json": {
       "model_id": "ac229d17bbd84da68231d611a7b44607",
       "version_major": 2,
       "version_minor": 0
      },
      "text/plain": [
       "mercury.Text"
      ]
     },
     "metadata": {},
     "output_type": "display_data"
    }
   ],
   "source": [
    "artistInput = mr.Text(label = \"Artist Name:\", value=\"Caravan Palace\",rows = 1)"
   ]
  },
  {
   "cell_type": "code",
   "execution_count": 29,
   "id": "ee69da0f-69b1-4d71-8aff-c077a68e9675",
   "metadata": {},
   "outputs": [
    {
     "data": {
      "text/markdown": [
       "## Okay, let's test Caravan Palace!"
      ],
      "text/plain": [
       "<IPython.core.display.Markdown object>"
      ]
     },
     "metadata": {},
     "output_type": "display_data"
    }
   ],
   "source": [
    "mr.Md(f\"\"\"## Okay, let's test {artistInput.value}!\"\"\")"
   ]
  },
  {
   "cell_type": "code",
   "execution_count": 32,
   "id": "e82683db-07f4-43af-a7ea-512b18194cbb",
   "metadata": {},
   "outputs": [],
   "source": [
    "import pandas as pd\n",
    "import spotipy\n",
    "import os\n",
    "from dotenv import load_dotenv\n",
    "\n",
    "load_dotenv()\n",
    "\n",
    "project_api_key=os.environ['project_api_key']\n",
    "project_api_key_secret= os.environ['project_api_key_secret']\n",
    "\n",
    "from spotipy.oauth2 import SpotifyClientCredentials\n",
    "\n",
    "spotify = spotipy.Spotify(auth_manager=SpotifyClientCredentials(\n",
    "     project_api_key,\n",
    "     project_api_key_secret,\n",
    "))\n",
    "\n",
    "results = spotify.search(q='artist: '+ artistInput.value, type='artist')\n",
    "uri = pd.Series([results['artists']['items'][0]['uri']])\n",
    "uri = uri.str.replace('spotify:artist:', '')\n",
    "\n",
    "#print(uri)\n",
    "\n",
    "url = \"https://open.spotify.com/artist/\"+uri[0]\n",
    "#print(url)\n",
    "\n",
    "from playwright.async_api import async_playwright\n",
    "from playwright_stealth import stealth_async\n",
    "\n",
    "playwright = await async_playwright().start()\n",
    "browser = await playwright.chromium.launch(headless = True)\n",
    "page = await browser.new_page()\n",
    "\n",
    "await page.goto(url)\n",
    "\n",
    "all_Tay = page.locator('See more')\n",
    "await page.click('text=See more')\n",
    "\n",
    "from bs4 import BeautifulSoup\n",
    "\n",
    "doc = BeautifulSoup(await page.content())\n",
    "\n",
    "top_songs = doc.find_all('div', role='row')\n",
    "\n",
    "rows = []\n",
    "rank = 1\n",
    "artists = []\n",
    "title = doc.find_all(class_ = \"encore-text encore-text-headline-large encore-internal-color-text-base\")\n",
    "top_songs = doc.find_all('div', role='row')\n",
    "for song in top_songs:\n",
    "    #print(\"----\")\n",
    "\n",
    "    row = {}\n",
    "\n",
    "    try:\n",
    "        row['title'] = song.find(class_=\"encore-text encore-text-body-medium encore-internal-color-text-base btE2c3IKaOXZ4VNAb8WQ standalone-ellipsis-one-line\").text\n",
    "    except:\n",
    "        row['title'] = None\n",
    "\n",
    "    try:\n",
    "         row['artist'] = title[0].text\n",
    "    except:\n",
    "         row['artist'] = None\n",
    "\n",
    "    try:\n",
    "        row['play_count'] = song.find(class_=\"encore-text encore-text-body-small HxDMwNr5oCxTOyqt85gi\").text\n",
    "    except:\n",
    "        row['play_count'] = None\n",
    "\n",
    "    rows.append(row)\n",
    "\n",
    "dataTime = pd.DataFrame(rows)\n",
    "\n",
    "dataTime['play_count'] = dataTime['play_count'].str.replace(\",\",\"\")\n",
    "dataTime['play_count'] = dataTime['play_count'].astype(int)\n",
    "dataTime = dataTime.sort_values(by = 'play_count', ascending = False)\n",
    "dataTime['rank'] = [1,2,3,4,5,6,7,8,9,10]\n",
    "dataTime.set_index('rank', inplace = True)\n",
    "\n",
    "percentage = (dataTime['play_count'][1]/sum(dataTime['play_count']))*100\n",
    "\n",
    "if percentage < 85:\n",
    "    # print(f\"Your artist, {artistInput.value}, is NOT a one hit wonder!\")\n",
    "    # print(f\"Their top song, {dataTime['title'][1]}, made up {percentage}% of their total listens of {sum(dataTime['play_count'])} at {dataTime['play_count'][1]}\")\n",
    "    yesOrNo = \"IS NOT\"\n",
    "else:\n",
    "    # print(f\"Your artist, {artistInput.value}, IS a one hit wonder!\")\n",
    "    # print(f\"Their top song, {dataTime['title'][1]}, made up {percentage}% of their total listens of {sum(dataTime['play_count'])} at {dataTime['play_count'][1]}\")\n",
    "    yesOrNo = \"IS\"\n",
    "\n",
    "#dataTime"
   ]
  },
  {
   "cell_type": "code",
   "execution_count": 33,
   "id": "8bf75b75-e010-43fd-a3ae-8575ce7b5134",
   "metadata": {},
   "outputs": [
    {
     "data": {
      "text/markdown": [
       "## Your artist, Caravan Palace, IS NOT a one hit wonder!"
      ],
      "text/plain": [
       "<IPython.core.display.Markdown object>"
      ]
     },
     "metadata": {},
     "output_type": "display_data"
    }
   ],
   "source": [
    "mr.Md(f\"\"\"## Your artist, {artistInput.value}, {yesOrNo} a one hit wonder!\"\"\")"
   ]
  },
  {
   "cell_type": "code",
   "execution_count": 38,
   "id": "38b51e5d-b5b5-4627-bf24-4a16fd16f25f",
   "metadata": {},
   "outputs": [
    {
     "data": {
      "text/markdown": [
       "## Their top song, Lone Digger, made up 38.073824868133826% of their total listens of 514146831 at 195755364"
      ],
      "text/plain": [
       "<IPython.core.display.Markdown object>"
      ]
     },
     "metadata": {},
     "output_type": "display_data"
    }
   ],
   "source": [
    "mr.Md(f\"\"\"## Their top song, {dataTime['title'][1]}, made up {percentage}% of their total listens of {sum(dataTime['play_count'])} at {dataTime['play_count'][1]}\"\"\")"
   ]
  }
 ],
 "metadata": {
  "kernelspec": {
   "display_name": "Python 3 (ipykernel)",
   "language": "python",
   "name": "python3"
  },
  "language_info": {
   "codemirror_mode": {
    "name": "ipython",
    "version": 3
   },
   "file_extension": ".py",
   "mimetype": "text/x-python",
   "name": "python",
   "nbconvert_exporter": "python",
   "pygments_lexer": "ipython3",
   "version": "3.11.8"
  }
 },
 "nbformat": 4,
 "nbformat_minor": 5
}
