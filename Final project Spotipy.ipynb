{
 "cells": [
  {
   "cell_type": "markdown",
   "id": "a5e551fe-d189-469d-b340-5fb23d06f2fe",
   "metadata": {},
   "source": [
    "\n",
    "# Taylor Swift!!!  #\n",
    "## 🦋🌟👗🧣🏙🐍💘🍷🥂 ## \n",
    "\"We're happy, free, confused and lonely at the same time.\"\n",
    "-22"
   ]
  },
  {
   "cell_type": "markdown",
   "id": "caddcbbf-98af-4418-820e-4a970728dfe7",
   "metadata": {},
   "source": [
    "### public Spotify data ###"
   ]
  },
  {
   "cell_type": "code",
   "execution_count": 1,
   "id": "def3a902-cce8-4606-bbbd-312449f2ac5e",
   "metadata": {},
   "outputs": [],
   "source": [
    "import spotipy"
   ]
  },
  {
   "cell_type": "code",
   "execution_count": 2,
   "id": "205da195-7405-485c-80eb-307c7313e562",
   "metadata": {},
   "outputs": [],
   "source": [
    "!touch .env"
   ]
  },
  {
   "cell_type": "code",
   "execution_count": 3,
   "id": "8c730fca-aaa5-469d-8627-735a029a3b47",
   "metadata": {},
   "outputs": [
    {
     "ename": "ImportError",
     "evalue": "cannot import name 'load_dotenv' from 'dotenv' (/Users/T/.pyenv/versions/3.11.8/lib/python3.11/site-packages/dotenv/__init__.py)",
     "output_type": "error",
     "traceback": [
      "\u001b[0;31m---------------------------------------------------------------------------\u001b[0m",
      "\u001b[0;31mImportError\u001b[0m                               Traceback (most recent call last)",
      "Cell \u001b[0;32mIn[3], line 2\u001b[0m\n\u001b[1;32m      1\u001b[0m \u001b[38;5;28;01mimport\u001b[39;00m \u001b[38;5;21;01mos\u001b[39;00m\n\u001b[0;32m----> 2\u001b[0m \u001b[38;5;28;01mfrom\u001b[39;00m \u001b[38;5;21;01mdotenv\u001b[39;00m \u001b[38;5;28;01mimport\u001b[39;00m load_dotenv\n\u001b[1;32m      3\u001b[0m load_dotenv()\n",
      "\u001b[0;31mImportError\u001b[0m: cannot import name 'load_dotenv' from 'dotenv' (/Users/T/.pyenv/versions/3.11.8/lib/python3.11/site-packages/dotenv/__init__.py)"
     ]
    }
   ],
   "source": [
    "import os\n",
    "from dotenv import load_dotenv\n",
    "load_dotenv()"
   ]
  },
  {
   "cell_type": "code",
   "execution_count": 5,
   "id": "b9eab782-b76c-4943-a108-d058dd4747c0",
   "metadata": {},
   "outputs": [],
   "source": [
    "project_api_key =\"b9f3ee83dcd84073ae7ac3642c1a562e\"\n",
    "project_api_key_secret=\"d6a941897e824a3d9beb0a69409fc91a\""
   ]
  },
  {
   "cell_type": "markdown",
   "id": "cb6814dd",
   "metadata": {},
   "source": []
  },
  {
   "cell_type": "code",
   "execution_count": 7,
   "id": "4b733db4-3a16-4ec1-8d48-2cf61858fe9e",
   "metadata": {},
   "outputs": [],
   "source": [
    "from spotipy.oauth2 import SpotifyClientCredentials\n",
    "\n",
    "spotify = spotipy.Spotify(auth_manager=SpotifyClientCredentials(\n",
    "    project_api_key,\n",
    "    project_api_key_secret,\n",
    "))"
   ]
  },
  {
   "cell_type": "markdown",
   "id": "dba85946-4ed6-4f32-8f0b-77b5d34c811c",
   "metadata": {},
   "source": [
    "### \"Who's Taylor Swift?\" ###\n",
    "### \"OMG -- am I about to introduce you to Taylor Swift?\" ###"
   ]
  },
  {
   "cell_type": "code",
   "execution_count": 31,
   "id": "e24e6a0d-5300-4ace-8633-2d3f09c7a24e",
   "metadata": {},
   "outputs": [],
   "source": [
    "results = spotify.search(q='artist:Fountains of Wayne', type='artist')"
   ]
  },
  {
   "cell_type": "code",
   "execution_count": 32,
   "id": "5f132594-65a1-4875-ae85-3a3d4eae337b",
   "metadata": {},
   "outputs": [
    {
     "data": {
      "text/plain": [
       "{'artists': {'href': 'https://api.spotify.com/v1/search?query=artist%3AFountains+of+Wayne&type=artist&offset=0&limit=10',\n",
       "  'items': [{'external_urls': {'spotify': 'https://open.spotify.com/artist/1pgtr4nhBQjp9oCUBPyYWh'},\n",
       "    'followers': {'href': None, 'total': 188370},\n",
       "    'genres': ['pop rock', 'power pop'],\n",
       "    'href': 'https://api.spotify.com/v1/artists/1pgtr4nhBQjp9oCUBPyYWh',\n",
       "    'id': '1pgtr4nhBQjp9oCUBPyYWh',\n",
       "    'images': [{'height': 625,\n",
       "      'url': 'https://i.scdn.co/image/fe75e6f4ba0b2e75e97e3505f9daa112a606977f',\n",
       "      'width': 1000},\n",
       "     {'height': 400,\n",
       "      'url': 'https://i.scdn.co/image/67bac75239a54443a6abc5a3a367cd9321ad5f97',\n",
       "      'width': 640},\n",
       "     {'height': 125,\n",
       "      'url': 'https://i.scdn.co/image/7f58b2862ef9f7441ca3b424e709578cc14775dd',\n",
       "      'width': 200},\n",
       "     {'height': 40,\n",
       "      'url': 'https://i.scdn.co/image/0f66b137c865c7d6e74d567b4fe732d00fe423ed',\n",
       "      'width': 64}],\n",
       "    'name': 'Fountains Of Wayne',\n",
       "    'popularity': 57,\n",
       "    'type': 'artist',\n",
       "    'uri': 'spotify:artist:1pgtr4nhBQjp9oCUBPyYWh'}],\n",
       "  'limit': 10,\n",
       "  'next': None,\n",
       "  'offset': 0,\n",
       "  'previous': None,\n",
       "  'total': 1}}"
      ]
     },
     "execution_count": 32,
     "metadata": {},
     "output_type": "execute_result"
    }
   ],
   "source": [
    "results"
   ]
  },
  {
   "cell_type": "code",
   "execution_count": 33,
   "id": "2a4353c6-9ad7-4dc6-be30-29ec98bc1a98",
   "metadata": {},
   "outputs": [
    {
     "data": {
      "text/plain": [
       "{'external_urls': {'spotify': 'https://open.spotify.com/artist/1pgtr4nhBQjp9oCUBPyYWh'},\n",
       " 'followers': {'href': None, 'total': 188370},\n",
       " 'genres': ['pop rock', 'power pop'],\n",
       " 'href': 'https://api.spotify.com/v1/artists/1pgtr4nhBQjp9oCUBPyYWh',\n",
       " 'id': '1pgtr4nhBQjp9oCUBPyYWh',\n",
       " 'images': [{'height': 625,\n",
       "   'url': 'https://i.scdn.co/image/fe75e6f4ba0b2e75e97e3505f9daa112a606977f',\n",
       "   'width': 1000},\n",
       "  {'height': 400,\n",
       "   'url': 'https://i.scdn.co/image/67bac75239a54443a6abc5a3a367cd9321ad5f97',\n",
       "   'width': 640},\n",
       "  {'height': 125,\n",
       "   'url': 'https://i.scdn.co/image/7f58b2862ef9f7441ca3b424e709578cc14775dd',\n",
       "   'width': 200},\n",
       "  {'height': 40,\n",
       "   'url': 'https://i.scdn.co/image/0f66b137c865c7d6e74d567b4fe732d00fe423ed',\n",
       "   'width': 64}],\n",
       " 'name': 'Fountains Of Wayne',\n",
       " 'popularity': 57,\n",
       " 'type': 'artist',\n",
       " 'uri': 'spotify:artist:1pgtr4nhBQjp9oCUBPyYWh'}"
      ]
     },
     "execution_count": 33,
     "metadata": {},
     "output_type": "execute_result"
    }
   ],
   "source": [
    "results['artists']['items'][0]"
   ]
  },
  {
   "cell_type": "markdown",
   "id": "9d641b44-f39c-45fe-a22b-b9c0597a5396",
   "metadata": {},
   "source": [
    "### soooo, what are we listening to? "
   ]
  },
  {
   "cell_type": "code",
   "execution_count": 34,
   "id": "825f30bd-2246-43bf-93a2-bc95042c49ab",
   "metadata": {},
   "outputs": [
    {
     "name": "stdout",
     "output_type": "stream",
     "text": [
      "Stacy's Mom\n",
      "Hey Julie\n",
      "Sink to the Bottom\n",
      "Hackensack\n",
      "Radiation Vibe\n",
      "Mexican Wine\n",
      "All Kinds Of Time\n",
      "Bright Future In Sales\n",
      "Denise\n",
      "Someone To Love\n"
     ]
    }
   ],
   "source": [
    "client_credentials_manager = SpotifyClientCredentials(project_api_key, project_api_key_secret,\n",
    ")\n",
    "sp = spotipy.Spotify(client_credentials_manager=client_credentials_manager)\n",
    "\n",
    "results = sp.artist_top_tracks('spotify:artist:1pgtr4nhBQjp9oCUBPyYWh')\n",
    "\n",
    "for track in results['tracks'][:10]:\n",
    "    print(track['name'])"
   ]
  },
  {
   "cell_type": "markdown",
   "id": "45002d59-2984-47f2-b101-c1b9dfa8842a",
   "metadata": {},
   "source": [
    "### Play counts! (Taylor's Version) (From The Vault) ###\n",
    "It's a cruel summer"
   ]
  },
  {
   "cell_type": "code",
   "execution_count": 35,
   "id": "f8346719-6c53-4873-8c2b-66cc2c760db8",
   "metadata": {},
   "outputs": [
    {
     "name": "stdout",
     "output_type": "stream",
     "text": [
      "Requirement already satisfied: playwright-stealth in /Users/T/.pyenv/versions/3.11.8/lib/python3.11/site-packages (1.0.6)\n",
      "Requirement already satisfied: playwright in /Users/T/.pyenv/versions/3.11.8/lib/python3.11/site-packages (from playwright-stealth) (1.45.0)\n",
      "Requirement already satisfied: greenlet==3.0.3 in /Users/T/.pyenv/versions/3.11.8/lib/python3.11/site-packages (from playwright->playwright-stealth) (3.0.3)\n",
      "Requirement already satisfied: pyee==11.1.0 in /Users/T/.pyenv/versions/3.11.8/lib/python3.11/site-packages (from playwright->playwright-stealth) (11.1.0)\n",
      "Requirement already satisfied: typing-extensions in /Users/T/.pyenv/versions/3.11.8/lib/python3.11/site-packages (from pyee==11.1.0->playwright->playwright-stealth) (4.12.1)\n",
      "\n",
      "\u001b[1m[\u001b[0m\u001b[34;49mnotice\u001b[0m\u001b[1;39;49m]\u001b[0m\u001b[39;49m A new release of pip is available: \u001b[0m\u001b[31;49m24.0\u001b[0m\u001b[39;49m -> \u001b[0m\u001b[32;49m24.1.2\u001b[0m\n",
      "\u001b[1m[\u001b[0m\u001b[34;49mnotice\u001b[0m\u001b[1;39;49m]\u001b[0m\u001b[39;49m To update, run: \u001b[0m\u001b[32;49mpip install --upgrade pip\u001b[0m\n"
     ]
    }
   ],
   "source": [
    "!pip install playwright-stealth"
   ]
  },
  {
   "cell_type": "code",
   "execution_count": 36,
   "id": "d2d6506d-f605-42e1-9cf6-fea356cc7dfe",
   "metadata": {},
   "outputs": [],
   "source": [
    "from playwright.async_api import async_playwright\n",
    "from playwright_stealth import stealth_async"
   ]
  },
  {
   "cell_type": "code",
   "execution_count": 37,
   "id": "ef81b624-b072-4fdd-b404-906ae3b748a6",
   "metadata": {},
   "outputs": [],
   "source": [
    "playwright = await async_playwright().start()\n",
    "browser = await playwright.chromium.launch(headless = True)\n",
    "page = await browser.new_page()"
   ]
  },
  {
   "cell_type": "code",
   "execution_count": 38,
   "id": "2c937844-4d50-47f9-8f75-9ce1b3d45aae",
   "metadata": {},
   "outputs": [
    {
     "data": {
      "text/plain": [
       "<Response url='https://open.spotify.com/artist/1pgtr4nhBQjp9oCUBPyYWh' request=<Request url='https://open.spotify.com/artist/1pgtr4nhBQjp9oCUBPyYWh' method='GET'>>"
      ]
     },
     "execution_count": 38,
     "metadata": {},
     "output_type": "execute_result"
    }
   ],
   "source": [
    "await page.goto(\"https://open.spotify.com/artist/1pgtr4nhBQjp9oCUBPyYWh\") "
   ]
  },
  {
   "cell_type": "code",
   "execution_count": 39,
   "id": "498a3b58-d58c-46e3-9c6a-f7667463739b",
   "metadata": {},
   "outputs": [],
   "source": [
    "all_Tay = page.locator('See more')"
   ]
  },
  {
   "cell_type": "code",
   "execution_count": 40,
   "id": "3c6c3720-e80d-492e-b869-bb0fc9f5d834",
   "metadata": {},
   "outputs": [],
   "source": [
    "await page.click('text=See more')"
   ]
  },
  {
   "cell_type": "code",
   "execution_count": 41,
   "id": "5a4e5957-80d8-4b12-b060-627ff35141ae",
   "metadata": {},
   "outputs": [],
   "source": [
    "from bs4 import BeautifulSoup\n",
    "\n",
    "doc = BeautifulSoup(await page.content())"
   ]
  },
  {
   "cell_type": "code",
   "execution_count": 42,
   "id": "ecbba615-ab7e-44f9-9a3d-50e6b265e21d",
   "metadata": {},
   "outputs": [],
   "source": [
    "top_songs = doc.find_all('div', role='row')"
   ]
  },
  {
   "cell_type": "code",
   "execution_count": 43,
   "id": "1dda1257-d42f-4028-aa72-3772b97c4829",
   "metadata": {
    "scrolled": true
   },
   "outputs": [
    {
     "data": {
      "text/plain": [
       "[<div aria-rowindex=\"1\" aria-selected=\"false\" role=\"row\"><div class=\"IjYxRc5luMiDPhKhZVUH UpiE7J6vPrJIa59qxts4\" data-testid=\"tracklist-row\" draggable=\"true\" role=\"presentation\"><div aria-colindex=\"1\" class=\"fS0C4IgbHviZxIVGC736\" role=\"gridcell\"><div class=\"ucB9avGYvzsmzXUOw0S7\"><span class=\"encore-text encore-text-body-medium xNyTkXEncSjszLNI65Nq\" data-encore-id=\"text\">1</span><button aria-label=\"Play Stacy's Mom by Fountains Of Wayne\" class=\"j2s64Lz8y6VzBLB_V9Gm\" tabindex=\"-1\"><svg aria-hidden=\"true\" class=\"Svg-sc-ytk21e-0 bneLcE zOsKPnD_9x3KJqQCSmAq\" data-encore-id=\"icon\" role=\"img\" viewbox=\"0 0 24 24\"><path d=\"m7.05 3.606 13.49 7.788a.7.7 0 0 1 0 1.212L7.05 20.394A.7.7 0 0 1 6 19.788V4.212a.7.7 0 0 1 1.05-.606z\"></path></svg></button></div></div><div aria-colindex=\"2\" class=\"w46g_LQVSLE9xK399VYf\" role=\"gridcell\"><img alt=\"\" aria-hidden=\"false\" class=\"mMx2LUixlnN_Fu45JpFB IqDKYprOtD_EJR1WClPv Yn2Ei5QZn19gria6LjZj\" draggable=\"false\" height=\"40\" loading=\"eager\" src=\"https://i.scdn.co/image/ab67616d00001e02079e826265dffc3a8a26bac5\" style=\"border-radius: 4px;\" width=\"40\"/><div class=\"_iQpvk1c9OgRAc8KRTlH\"><a class=\"btE2c3IKaOXZ4VNAb8WQ\" data-testid=\"internal-track-link\" draggable=\"false\" href=\"/track/27L8sESb3KR79asDUBu8nW\" tabindex=\"-1\"><div class=\"encore-text encore-text-body-medium encore-internal-color-text-base btE2c3IKaOXZ4VNAb8WQ standalone-ellipsis-one-line\" data-encore-id=\"text\" dir=\"auto\">Stacy's Mom</div></a></div></div><div aria-colindex=\"3\" class=\"_TH6YAXEzJtzSxhkGSqu\" role=\"gridcell\"><div class=\"encore-text encore-text-body-small HxDMwNr5oCxTOyqt85gi\" data-encore-id=\"text\">470,767,331</div></div><div aria-colindex=\"4\" class=\"PAqIqZXvse_3h6sDVxU0\" role=\"gridcell\"><button aria-checked=\"false\" aria-label=\"Save to Your Library\" class=\"Button-sc-1dqy6lx-0 idcAJd GcODM2Bp3srQqJzi8Tzs\" data-encore-id=\"buttonTertiary\" data-testid=\"add-button\" tabindex=\"-1\"><span aria-hidden=\"true\" class=\"IconWrapper__Wrapper-sc-16usrgb-0 hYdsxw\"><svg aria-hidden=\"true\" class=\"Svg-sc-ytk21e-0 dYnaPI\" data-encore-id=\"icon\" role=\"img\" viewbox=\"0 0 16 16\"><path d=\"M1.69 2A4.582 4.582 0 0 1 8 2.023 4.583 4.583 0 0 1 11.88.817h.002a4.618 4.618 0 0 1 3.782 3.65v.003a4.543 4.543 0 0 1-1.011 3.84L9.35 14.629a1.765 1.765 0 0 1-2.093.464 1.762 1.762 0 0 1-.605-.463L1.348 8.309A4.582 4.582 0 0 1 1.689 2zm3.158.252A3.082 3.082 0 0 0 2.49 7.337l.005.005L7.8 13.664a.264.264 0 0 0 .311.069.262.262 0 0 0 .09-.069l5.312-6.33a3.043 3.043 0 0 0 .68-2.573 3.118 3.118 0 0 0-2.551-2.463 3.079 3.079 0 0 0-2.612.816l-.007.007a1.501 1.501 0 0 1-2.045 0l-.009-.008a3.082 3.082 0 0 0-2.121-.861z\"></path></svg></span></button><div class=\"encore-text encore-text-body-small encore-internal-color-text-subdued l5CmSxiQaap8rWOOpEpk\" data-encore-id=\"text\">3:17</div><button aria-haspopup=\"menu\" aria-label=\"More options for Stacy's Mom by Fountains Of Wayne\" class=\"Button-sc-1dqy6lx-0 idcAJd ObVor_8sQq5whKbtWs8a\" data-encore-id=\"buttonTertiary\" data-testid=\"more-button\" tabindex=\"-1\"><span aria-hidden=\"true\" class=\"IconWrapper__Wrapper-sc-16usrgb-0 hYdsxw\"><svg aria-hidden=\"true\" class=\"Svg-sc-ytk21e-0 dYnaPI\" data-encore-id=\"icon\" role=\"img\" viewbox=\"0 0 16 16\"><path d=\"M3 8a1.5 1.5 0 1 1-3 0 1.5 1.5 0 0 1 3 0zm6.5 0a1.5 1.5 0 1 1-3 0 1.5 1.5 0 0 1 3 0zM16 8a1.5 1.5 0 1 1-3 0 1.5 1.5 0 0 1 3 0z\"></path></svg></span></button></div></div></div>,\n",
       " <div aria-rowindex=\"2\" aria-selected=\"false\" role=\"row\"><div class=\"IjYxRc5luMiDPhKhZVUH UpiE7J6vPrJIa59qxts4\" data-testid=\"tracklist-row\" draggable=\"true\" role=\"presentation\"><div aria-colindex=\"1\" class=\"fS0C4IgbHviZxIVGC736\" role=\"gridcell\"><div class=\"ucB9avGYvzsmzXUOw0S7\"><span class=\"encore-text encore-text-body-medium xNyTkXEncSjszLNI65Nq\" data-encore-id=\"text\">2</span><button aria-label=\"Play Hey Julie by Fountains Of Wayne\" class=\"j2s64Lz8y6VzBLB_V9Gm\" tabindex=\"-1\"><svg aria-hidden=\"true\" class=\"Svg-sc-ytk21e-0 bneLcE zOsKPnD_9x3KJqQCSmAq\" data-encore-id=\"icon\" role=\"img\" viewbox=\"0 0 24 24\"><path d=\"m7.05 3.606 13.49 7.788a.7.7 0 0 1 0 1.212L7.05 20.394A.7.7 0 0 1 6 19.788V4.212a.7.7 0 0 1 1.05-.606z\"></path></svg></button></div></div><div aria-colindex=\"2\" class=\"w46g_LQVSLE9xK399VYf\" role=\"gridcell\"><img alt=\"\" aria-hidden=\"false\" class=\"mMx2LUixlnN_Fu45JpFB IqDKYprOtD_EJR1WClPv Yn2Ei5QZn19gria6LjZj\" draggable=\"false\" height=\"40\" loading=\"eager\" src=\"https://i.scdn.co/image/ab67616d00001e02079e826265dffc3a8a26bac5\" style=\"border-radius: 4px;\" width=\"40\"/><div class=\"_iQpvk1c9OgRAc8KRTlH\"><a class=\"btE2c3IKaOXZ4VNAb8WQ\" data-testid=\"internal-track-link\" draggable=\"false\" href=\"/track/2LGAbm0xHNu7scBDVCkFwN\" tabindex=\"-1\"><div class=\"encore-text encore-text-body-medium encore-internal-color-text-base btE2c3IKaOXZ4VNAb8WQ standalone-ellipsis-one-line\" data-encore-id=\"text\" dir=\"auto\">Hey Julie</div></a></div></div><div aria-colindex=\"3\" class=\"_TH6YAXEzJtzSxhkGSqu\" role=\"gridcell\"><div class=\"encore-text encore-text-body-small HxDMwNr5oCxTOyqt85gi\" data-encore-id=\"text\">27,133,462</div></div><div aria-colindex=\"4\" class=\"PAqIqZXvse_3h6sDVxU0\" role=\"gridcell\"><button aria-checked=\"false\" aria-label=\"Save to Your Library\" class=\"Button-sc-1dqy6lx-0 idcAJd GcODM2Bp3srQqJzi8Tzs\" data-encore-id=\"buttonTertiary\" data-testid=\"add-button\" tabindex=\"-1\"><span aria-hidden=\"true\" class=\"IconWrapper__Wrapper-sc-16usrgb-0 hYdsxw\"><svg aria-hidden=\"true\" class=\"Svg-sc-ytk21e-0 dYnaPI\" data-encore-id=\"icon\" role=\"img\" viewbox=\"0 0 16 16\"><path d=\"M1.69 2A4.582 4.582 0 0 1 8 2.023 4.583 4.583 0 0 1 11.88.817h.002a4.618 4.618 0 0 1 3.782 3.65v.003a4.543 4.543 0 0 1-1.011 3.84L9.35 14.629a1.765 1.765 0 0 1-2.093.464 1.762 1.762 0 0 1-.605-.463L1.348 8.309A4.582 4.582 0 0 1 1.689 2zm3.158.252A3.082 3.082 0 0 0 2.49 7.337l.005.005L7.8 13.664a.264.264 0 0 0 .311.069.262.262 0 0 0 .09-.069l5.312-6.33a3.043 3.043 0 0 0 .68-2.573 3.118 3.118 0 0 0-2.551-2.463 3.079 3.079 0 0 0-2.612.816l-.007.007a1.501 1.501 0 0 1-2.045 0l-.009-.008a3.082 3.082 0 0 0-2.121-.861z\"></path></svg></span></button><div class=\"encore-text encore-text-body-small encore-internal-color-text-subdued l5CmSxiQaap8rWOOpEpk\" data-encore-id=\"text\">2:36</div><button aria-haspopup=\"menu\" aria-label=\"More options for Hey Julie by Fountains Of Wayne\" class=\"Button-sc-1dqy6lx-0 idcAJd ObVor_8sQq5whKbtWs8a\" data-encore-id=\"buttonTertiary\" data-testid=\"more-button\" tabindex=\"-1\"><span aria-hidden=\"true\" class=\"IconWrapper__Wrapper-sc-16usrgb-0 hYdsxw\"><svg aria-hidden=\"true\" class=\"Svg-sc-ytk21e-0 dYnaPI\" data-encore-id=\"icon\" role=\"img\" viewbox=\"0 0 16 16\"><path d=\"M3 8a1.5 1.5 0 1 1-3 0 1.5 1.5 0 0 1 3 0zm6.5 0a1.5 1.5 0 1 1-3 0 1.5 1.5 0 0 1 3 0zM16 8a1.5 1.5 0 1 1-3 0 1.5 1.5 0 0 1 3 0z\"></path></svg></span></button></div></div></div>,\n",
       " <div aria-rowindex=\"3\" aria-selected=\"false\" role=\"row\"><div class=\"IjYxRc5luMiDPhKhZVUH UpiE7J6vPrJIa59qxts4\" data-testid=\"tracklist-row\" draggable=\"true\" role=\"presentation\"><div aria-colindex=\"1\" class=\"fS0C4IgbHviZxIVGC736\" role=\"gridcell\"><div class=\"ucB9avGYvzsmzXUOw0S7\"><span class=\"encore-text encore-text-body-medium xNyTkXEncSjszLNI65Nq\" data-encore-id=\"text\">3</span><button aria-label=\"Play Sink to the Bottom by Fountains Of Wayne\" class=\"j2s64Lz8y6VzBLB_V9Gm\" tabindex=\"-1\"><svg aria-hidden=\"true\" class=\"Svg-sc-ytk21e-0 bneLcE zOsKPnD_9x3KJqQCSmAq\" data-encore-id=\"icon\" role=\"img\" viewbox=\"0 0 24 24\"><path d=\"m7.05 3.606 13.49 7.788a.7.7 0 0 1 0 1.212L7.05 20.394A.7.7 0 0 1 6 19.788V4.212a.7.7 0 0 1 1.05-.606z\"></path></svg></button></div></div><div aria-colindex=\"2\" class=\"w46g_LQVSLE9xK399VYf\" role=\"gridcell\"><img alt=\"\" aria-hidden=\"false\" class=\"mMx2LUixlnN_Fu45JpFB IqDKYprOtD_EJR1WClPv Yn2Ei5QZn19gria6LjZj\" draggable=\"false\" height=\"40\" loading=\"eager\" src=\"https://i.scdn.co/image/ab67616d00001e02617ef30bf6fcca94cb473079\" style=\"border-radius: 4px;\" width=\"40\"/><div class=\"_iQpvk1c9OgRAc8KRTlH\"><a class=\"btE2c3IKaOXZ4VNAb8WQ\" data-testid=\"internal-track-link\" draggable=\"false\" href=\"/track/32uXfxJERzv4RK1gMLXbOA\" tabindex=\"-1\"><div class=\"encore-text encore-text-body-medium encore-internal-color-text-base btE2c3IKaOXZ4VNAb8WQ standalone-ellipsis-one-line\" data-encore-id=\"text\" dir=\"auto\">Sink to the Bottom</div></a></div></div><div aria-colindex=\"3\" class=\"_TH6YAXEzJtzSxhkGSqu\" role=\"gridcell\"><div class=\"encore-text encore-text-body-small HxDMwNr5oCxTOyqt85gi\" data-encore-id=\"text\">10,131,899</div></div><div aria-colindex=\"4\" class=\"PAqIqZXvse_3h6sDVxU0\" role=\"gridcell\"><button aria-checked=\"false\" aria-label=\"Save to Your Library\" class=\"Button-sc-1dqy6lx-0 idcAJd GcODM2Bp3srQqJzi8Tzs\" data-encore-id=\"buttonTertiary\" data-testid=\"add-button\" tabindex=\"-1\"><span aria-hidden=\"true\" class=\"IconWrapper__Wrapper-sc-16usrgb-0 hYdsxw\"><svg aria-hidden=\"true\" class=\"Svg-sc-ytk21e-0 dYnaPI\" data-encore-id=\"icon\" role=\"img\" viewbox=\"0 0 16 16\"><path d=\"M1.69 2A4.582 4.582 0 0 1 8 2.023 4.583 4.583 0 0 1 11.88.817h.002a4.618 4.618 0 0 1 3.782 3.65v.003a4.543 4.543 0 0 1-1.011 3.84L9.35 14.629a1.765 1.765 0 0 1-2.093.464 1.762 1.762 0 0 1-.605-.463L1.348 8.309A4.582 4.582 0 0 1 1.689 2zm3.158.252A3.082 3.082 0 0 0 2.49 7.337l.005.005L7.8 13.664a.264.264 0 0 0 .311.069.262.262 0 0 0 .09-.069l5.312-6.33a3.043 3.043 0 0 0 .68-2.573 3.118 3.118 0 0 0-2.551-2.463 3.079 3.079 0 0 0-2.612.816l-.007.007a1.501 1.501 0 0 1-2.045 0l-.009-.008a3.082 3.082 0 0 0-2.121-.861z\"></path></svg></span></button><div class=\"encore-text encore-text-body-small encore-internal-color-text-subdued l5CmSxiQaap8rWOOpEpk\" data-encore-id=\"text\">3:12</div><button aria-haspopup=\"menu\" aria-label=\"More options for Sink to the Bottom by Fountains Of Wayne\" class=\"Button-sc-1dqy6lx-0 idcAJd ObVor_8sQq5whKbtWs8a\" data-encore-id=\"buttonTertiary\" data-testid=\"more-button\" tabindex=\"-1\"><span aria-hidden=\"true\" class=\"IconWrapper__Wrapper-sc-16usrgb-0 hYdsxw\"><svg aria-hidden=\"true\" class=\"Svg-sc-ytk21e-0 dYnaPI\" data-encore-id=\"icon\" role=\"img\" viewbox=\"0 0 16 16\"><path d=\"M3 8a1.5 1.5 0 1 1-3 0 1.5 1.5 0 0 1 3 0zm6.5 0a1.5 1.5 0 1 1-3 0 1.5 1.5 0 0 1 3 0zM16 8a1.5 1.5 0 1 1-3 0 1.5 1.5 0 0 1 3 0z\"></path></svg></span></button></div></div></div>,\n",
       " <div aria-rowindex=\"4\" aria-selected=\"false\" role=\"row\"><div class=\"IjYxRc5luMiDPhKhZVUH UpiE7J6vPrJIa59qxts4\" data-testid=\"tracklist-row\" draggable=\"true\" role=\"presentation\"><div aria-colindex=\"1\" class=\"fS0C4IgbHviZxIVGC736\" role=\"gridcell\"><div class=\"ucB9avGYvzsmzXUOw0S7\"><span class=\"encore-text encore-text-body-medium xNyTkXEncSjszLNI65Nq\" data-encore-id=\"text\">4</span><button aria-label=\"Play Hackensack by Fountains Of Wayne\" class=\"j2s64Lz8y6VzBLB_V9Gm\" tabindex=\"-1\"><svg aria-hidden=\"true\" class=\"Svg-sc-ytk21e-0 bneLcE zOsKPnD_9x3KJqQCSmAq\" data-encore-id=\"icon\" role=\"img\" viewbox=\"0 0 24 24\"><path d=\"m7.05 3.606 13.49 7.788a.7.7 0 0 1 0 1.212L7.05 20.394A.7.7 0 0 1 6 19.788V4.212a.7.7 0 0 1 1.05-.606z\"></path></svg></button></div></div><div aria-colindex=\"2\" class=\"w46g_LQVSLE9xK399VYf\" role=\"gridcell\"><img alt=\"\" aria-hidden=\"false\" class=\"mMx2LUixlnN_Fu45JpFB IqDKYprOtD_EJR1WClPv Yn2Ei5QZn19gria6LjZj\" draggable=\"false\" height=\"40\" loading=\"eager\" src=\"https://i.scdn.co/image/ab67616d00001e02079e826265dffc3a8a26bac5\" style=\"border-radius: 4px;\" width=\"40\"/><div class=\"_iQpvk1c9OgRAc8KRTlH\"><a class=\"btE2c3IKaOXZ4VNAb8WQ\" data-testid=\"internal-track-link\" draggable=\"false\" href=\"/track/11PUdjgVfGEZLG9zs9UeTp\" tabindex=\"-1\"><div class=\"encore-text encore-text-body-medium encore-internal-color-text-base btE2c3IKaOXZ4VNAb8WQ standalone-ellipsis-one-line\" data-encore-id=\"text\" dir=\"auto\">Hackensack</div></a></div></div><div aria-colindex=\"3\" class=\"_TH6YAXEzJtzSxhkGSqu\" role=\"gridcell\"><div class=\"encore-text encore-text-body-small HxDMwNr5oCxTOyqt85gi\" data-encore-id=\"text\">8,808,410</div></div><div aria-colindex=\"4\" class=\"PAqIqZXvse_3h6sDVxU0\" role=\"gridcell\"><button aria-checked=\"false\" aria-label=\"Save to Your Library\" class=\"Button-sc-1dqy6lx-0 idcAJd GcODM2Bp3srQqJzi8Tzs\" data-encore-id=\"buttonTertiary\" data-testid=\"add-button\" tabindex=\"-1\"><span aria-hidden=\"true\" class=\"IconWrapper__Wrapper-sc-16usrgb-0 hYdsxw\"><svg aria-hidden=\"true\" class=\"Svg-sc-ytk21e-0 dYnaPI\" data-encore-id=\"icon\" role=\"img\" viewbox=\"0 0 16 16\"><path d=\"M1.69 2A4.582 4.582 0 0 1 8 2.023 4.583 4.583 0 0 1 11.88.817h.002a4.618 4.618 0 0 1 3.782 3.65v.003a4.543 4.543 0 0 1-1.011 3.84L9.35 14.629a1.765 1.765 0 0 1-2.093.464 1.762 1.762 0 0 1-.605-.463L1.348 8.309A4.582 4.582 0 0 1 1.689 2zm3.158.252A3.082 3.082 0 0 0 2.49 7.337l.005.005L7.8 13.664a.264.264 0 0 0 .311.069.262.262 0 0 0 .09-.069l5.312-6.33a3.043 3.043 0 0 0 .68-2.573 3.118 3.118 0 0 0-2.551-2.463 3.079 3.079 0 0 0-2.612.816l-.007.007a1.501 1.501 0 0 1-2.045 0l-.009-.008a3.082 3.082 0 0 0-2.121-.861z\"></path></svg></span></button><div class=\"encore-text encore-text-body-small encore-internal-color-text-subdued l5CmSxiQaap8rWOOpEpk\" data-encore-id=\"text\">3:00</div><button aria-haspopup=\"menu\" aria-label=\"More options for Hackensack by Fountains Of Wayne\" class=\"Button-sc-1dqy6lx-0 idcAJd ObVor_8sQq5whKbtWs8a\" data-encore-id=\"buttonTertiary\" data-testid=\"more-button\" tabindex=\"-1\"><span aria-hidden=\"true\" class=\"IconWrapper__Wrapper-sc-16usrgb-0 hYdsxw\"><svg aria-hidden=\"true\" class=\"Svg-sc-ytk21e-0 dYnaPI\" data-encore-id=\"icon\" role=\"img\" viewbox=\"0 0 16 16\"><path d=\"M3 8a1.5 1.5 0 1 1-3 0 1.5 1.5 0 0 1 3 0zm6.5 0a1.5 1.5 0 1 1-3 0 1.5 1.5 0 0 1 3 0zM16 8a1.5 1.5 0 1 1-3 0 1.5 1.5 0 0 1 3 0z\"></path></svg></span></button></div></div></div>,\n",
       " <div aria-rowindex=\"5\" aria-selected=\"false\" role=\"row\"><div class=\"IjYxRc5luMiDPhKhZVUH UpiE7J6vPrJIa59qxts4\" data-testid=\"tracklist-row\" draggable=\"true\" role=\"presentation\"><div aria-colindex=\"1\" class=\"fS0C4IgbHviZxIVGC736\" role=\"gridcell\"><div class=\"ucB9avGYvzsmzXUOw0S7\"><span class=\"encore-text encore-text-body-medium xNyTkXEncSjszLNI65Nq\" data-encore-id=\"text\">5</span><button aria-label=\"Play Radiation Vibe by Fountains Of Wayne\" class=\"j2s64Lz8y6VzBLB_V9Gm\" tabindex=\"-1\"><svg aria-hidden=\"true\" class=\"Svg-sc-ytk21e-0 bneLcE zOsKPnD_9x3KJqQCSmAq\" data-encore-id=\"icon\" role=\"img\" viewbox=\"0 0 24 24\"><path d=\"m7.05 3.606 13.49 7.788a.7.7 0 0 1 0 1.212L7.05 20.394A.7.7 0 0 1 6 19.788V4.212a.7.7 0 0 1 1.05-.606z\"></path></svg></button></div></div><div aria-colindex=\"2\" class=\"w46g_LQVSLE9xK399VYf\" role=\"gridcell\"><img alt=\"\" aria-hidden=\"false\" class=\"mMx2LUixlnN_Fu45JpFB IqDKYprOtD_EJR1WClPv Yn2Ei5QZn19gria6LjZj\" draggable=\"false\" height=\"40\" loading=\"eager\" src=\"https://i.scdn.co/image/ab67616d00001e02617ef30bf6fcca94cb473079\" style=\"border-radius: 4px;\" width=\"40\"/><div class=\"_iQpvk1c9OgRAc8KRTlH\"><a class=\"btE2c3IKaOXZ4VNAb8WQ\" data-testid=\"internal-track-link\" draggable=\"false\" href=\"/track/3XApt3UvXtv8y9S6DrAxCL\" tabindex=\"-1\"><div class=\"encore-text encore-text-body-medium encore-internal-color-text-base btE2c3IKaOXZ4VNAb8WQ standalone-ellipsis-one-line\" data-encore-id=\"text\" dir=\"auto\">Radiation Vibe</div></a></div></div><div aria-colindex=\"3\" class=\"_TH6YAXEzJtzSxhkGSqu\" role=\"gridcell\"><div class=\"encore-text encore-text-body-small HxDMwNr5oCxTOyqt85gi\" data-encore-id=\"text\">5,206,064</div></div><div aria-colindex=\"4\" class=\"PAqIqZXvse_3h6sDVxU0\" role=\"gridcell\"><button aria-checked=\"false\" aria-label=\"Save to Your Library\" class=\"Button-sc-1dqy6lx-0 idcAJd GcODM2Bp3srQqJzi8Tzs\" data-encore-id=\"buttonTertiary\" data-testid=\"add-button\" tabindex=\"-1\"><span aria-hidden=\"true\" class=\"IconWrapper__Wrapper-sc-16usrgb-0 hYdsxw\"><svg aria-hidden=\"true\" class=\"Svg-sc-ytk21e-0 dYnaPI\" data-encore-id=\"icon\" role=\"img\" viewbox=\"0 0 16 16\"><path d=\"M1.69 2A4.582 4.582 0 0 1 8 2.023 4.583 4.583 0 0 1 11.88.817h.002a4.618 4.618 0 0 1 3.782 3.65v.003a4.543 4.543 0 0 1-1.011 3.84L9.35 14.629a1.765 1.765 0 0 1-2.093.464 1.762 1.762 0 0 1-.605-.463L1.348 8.309A4.582 4.582 0 0 1 1.689 2zm3.158.252A3.082 3.082 0 0 0 2.49 7.337l.005.005L7.8 13.664a.264.264 0 0 0 .311.069.262.262 0 0 0 .09-.069l5.312-6.33a3.043 3.043 0 0 0 .68-2.573 3.118 3.118 0 0 0-2.551-2.463 3.079 3.079 0 0 0-2.612.816l-.007.007a1.501 1.501 0 0 1-2.045 0l-.009-.008a3.082 3.082 0 0 0-2.121-.861z\"></path></svg></span></button><div class=\"encore-text encore-text-body-small encore-internal-color-text-subdued l5CmSxiQaap8rWOOpEpk\" data-encore-id=\"text\">3:41</div><button aria-haspopup=\"menu\" aria-label=\"More options for Radiation Vibe by Fountains Of Wayne\" class=\"Button-sc-1dqy6lx-0 idcAJd ObVor_8sQq5whKbtWs8a\" data-encore-id=\"buttonTertiary\" data-testid=\"more-button\" tabindex=\"-1\"><span aria-hidden=\"true\" class=\"IconWrapper__Wrapper-sc-16usrgb-0 hYdsxw\"><svg aria-hidden=\"true\" class=\"Svg-sc-ytk21e-0 dYnaPI\" data-encore-id=\"icon\" role=\"img\" viewbox=\"0 0 16 16\"><path d=\"M3 8a1.5 1.5 0 1 1-3 0 1.5 1.5 0 0 1 3 0zm6.5 0a1.5 1.5 0 1 1-3 0 1.5 1.5 0 0 1 3 0zM16 8a1.5 1.5 0 1 1-3 0 1.5 1.5 0 0 1 3 0z\"></path></svg></span></button></div></div></div>,\n",
       " <div aria-rowindex=\"6\" aria-selected=\"false\" role=\"row\"><div class=\"IjYxRc5luMiDPhKhZVUH UpiE7J6vPrJIa59qxts4\" data-testid=\"tracklist-row\" draggable=\"true\" role=\"presentation\"><div aria-colindex=\"1\" class=\"fS0C4IgbHviZxIVGC736\" role=\"gridcell\"><div class=\"ucB9avGYvzsmzXUOw0S7\"><span class=\"encore-text encore-text-body-medium xNyTkXEncSjszLNI65Nq\" data-encore-id=\"text\">6</span><button aria-label=\"Play Mexican Wine by Fountains Of Wayne\" class=\"j2s64Lz8y6VzBLB_V9Gm\" tabindex=\"-1\"><svg aria-hidden=\"true\" class=\"Svg-sc-ytk21e-0 bneLcE zOsKPnD_9x3KJqQCSmAq\" data-encore-id=\"icon\" role=\"img\" viewbox=\"0 0 24 24\"><path d=\"m7.05 3.606 13.49 7.788a.7.7 0 0 1 0 1.212L7.05 20.394A.7.7 0 0 1 6 19.788V4.212a.7.7 0 0 1 1.05-.606z\"></path></svg></button></div></div><div aria-colindex=\"2\" class=\"w46g_LQVSLE9xK399VYf\" role=\"gridcell\"><img alt=\"\" aria-hidden=\"false\" class=\"mMx2LUixlnN_Fu45JpFB IqDKYprOtD_EJR1WClPv Yn2Ei5QZn19gria6LjZj\" draggable=\"false\" height=\"40\" loading=\"eager\" src=\"https://i.scdn.co/image/ab67616d00001e02079e826265dffc3a8a26bac5\" style=\"border-radius: 4px;\" width=\"40\"/><div class=\"_iQpvk1c9OgRAc8KRTlH\"><a class=\"btE2c3IKaOXZ4VNAb8WQ\" data-testid=\"internal-track-link\" draggable=\"false\" href=\"/track/6sPuuzPOih8vLC92qLpdJB\" tabindex=\"-1\"><div class=\"encore-text encore-text-body-medium encore-internal-color-text-base btE2c3IKaOXZ4VNAb8WQ standalone-ellipsis-one-line\" data-encore-id=\"text\" dir=\"auto\">Mexican Wine</div></a></div></div><div aria-colindex=\"3\" class=\"_TH6YAXEzJtzSxhkGSqu\" role=\"gridcell\"><div class=\"encore-text encore-text-body-small HxDMwNr5oCxTOyqt85gi\" data-encore-id=\"text\">5,587,231</div></div><div aria-colindex=\"4\" class=\"PAqIqZXvse_3h6sDVxU0\" role=\"gridcell\"><button aria-checked=\"false\" aria-label=\"Save to Your Library\" class=\"Button-sc-1dqy6lx-0 idcAJd GcODM2Bp3srQqJzi8Tzs\" data-encore-id=\"buttonTertiary\" data-testid=\"add-button\" tabindex=\"-1\"><span aria-hidden=\"true\" class=\"IconWrapper__Wrapper-sc-16usrgb-0 hYdsxw\"><svg aria-hidden=\"true\" class=\"Svg-sc-ytk21e-0 dYnaPI\" data-encore-id=\"icon\" role=\"img\" viewbox=\"0 0 16 16\"><path d=\"M1.69 2A4.582 4.582 0 0 1 8 2.023 4.583 4.583 0 0 1 11.88.817h.002a4.618 4.618 0 0 1 3.782 3.65v.003a4.543 4.543 0 0 1-1.011 3.84L9.35 14.629a1.765 1.765 0 0 1-2.093.464 1.762 1.762 0 0 1-.605-.463L1.348 8.309A4.582 4.582 0 0 1 1.689 2zm3.158.252A3.082 3.082 0 0 0 2.49 7.337l.005.005L7.8 13.664a.264.264 0 0 0 .311.069.262.262 0 0 0 .09-.069l5.312-6.33a3.043 3.043 0 0 0 .68-2.573 3.118 3.118 0 0 0-2.551-2.463 3.079 3.079 0 0 0-2.612.816l-.007.007a1.501 1.501 0 0 1-2.045 0l-.009-.008a3.082 3.082 0 0 0-2.121-.861z\"></path></svg></span></button><div class=\"encore-text encore-text-body-small encore-internal-color-text-subdued l5CmSxiQaap8rWOOpEpk\" data-encore-id=\"text\">3:22</div><button aria-haspopup=\"menu\" aria-label=\"More options for Mexican Wine by Fountains Of Wayne\" class=\"Button-sc-1dqy6lx-0 idcAJd ObVor_8sQq5whKbtWs8a\" data-encore-id=\"buttonTertiary\" data-testid=\"more-button\" tabindex=\"-1\"><span aria-hidden=\"true\" class=\"IconWrapper__Wrapper-sc-16usrgb-0 hYdsxw\"><svg aria-hidden=\"true\" class=\"Svg-sc-ytk21e-0 dYnaPI\" data-encore-id=\"icon\" role=\"img\" viewbox=\"0 0 16 16\"><path d=\"M3 8a1.5 1.5 0 1 1-3 0 1.5 1.5 0 0 1 3 0zm6.5 0a1.5 1.5 0 1 1-3 0 1.5 1.5 0 0 1 3 0zM16 8a1.5 1.5 0 1 1-3 0 1.5 1.5 0 0 1 3 0z\"></path></svg></span></button></div></div></div>,\n",
       " <div aria-rowindex=\"7\" aria-selected=\"false\" role=\"row\"><div class=\"IjYxRc5luMiDPhKhZVUH UpiE7J6vPrJIa59qxts4\" data-testid=\"tracklist-row\" draggable=\"true\" role=\"presentation\"><div aria-colindex=\"1\" class=\"fS0C4IgbHviZxIVGC736\" role=\"gridcell\"><div class=\"ucB9avGYvzsmzXUOw0S7\"><span class=\"encore-text encore-text-body-medium xNyTkXEncSjszLNI65Nq\" data-encore-id=\"text\">7</span><button aria-label=\"Play All Kinds Of Time by Fountains Of Wayne\" class=\"j2s64Lz8y6VzBLB_V9Gm\" tabindex=\"-1\"><svg aria-hidden=\"true\" class=\"Svg-sc-ytk21e-0 bneLcE zOsKPnD_9x3KJqQCSmAq\" data-encore-id=\"icon\" role=\"img\" viewbox=\"0 0 24 24\"><path d=\"m7.05 3.606 13.49 7.788a.7.7 0 0 1 0 1.212L7.05 20.394A.7.7 0 0 1 6 19.788V4.212a.7.7 0 0 1 1.05-.606z\"></path></svg></button></div></div><div aria-colindex=\"2\" class=\"w46g_LQVSLE9xK399VYf\" role=\"gridcell\"><img alt=\"\" aria-hidden=\"false\" class=\"mMx2LUixlnN_Fu45JpFB IqDKYprOtD_EJR1WClPv Yn2Ei5QZn19gria6LjZj\" draggable=\"false\" height=\"40\" loading=\"eager\" src=\"https://i.scdn.co/image/ab67616d00001e02079e826265dffc3a8a26bac5\" style=\"border-radius: 4px;\" width=\"40\"/><div class=\"_iQpvk1c9OgRAc8KRTlH\"><a class=\"btE2c3IKaOXZ4VNAb8WQ\" data-testid=\"internal-track-link\" draggable=\"false\" href=\"/track/6FeBkC4wmjcikm4Y2Orqnr\" tabindex=\"-1\"><div class=\"encore-text encore-text-body-medium encore-internal-color-text-base btE2c3IKaOXZ4VNAb8WQ standalone-ellipsis-one-line\" data-encore-id=\"text\" dir=\"auto\">All Kinds Of Time</div></a></div></div><div aria-colindex=\"3\" class=\"_TH6YAXEzJtzSxhkGSqu\" role=\"gridcell\"><div class=\"encore-text encore-text-body-small HxDMwNr5oCxTOyqt85gi\" data-encore-id=\"text\">5,784,404</div></div><div aria-colindex=\"4\" class=\"PAqIqZXvse_3h6sDVxU0\" role=\"gridcell\"><button aria-checked=\"false\" aria-label=\"Save to Your Library\" class=\"Button-sc-1dqy6lx-0 idcAJd GcODM2Bp3srQqJzi8Tzs\" data-encore-id=\"buttonTertiary\" data-testid=\"add-button\" tabindex=\"-1\"><span aria-hidden=\"true\" class=\"IconWrapper__Wrapper-sc-16usrgb-0 hYdsxw\"><svg aria-hidden=\"true\" class=\"Svg-sc-ytk21e-0 dYnaPI\" data-encore-id=\"icon\" role=\"img\" viewbox=\"0 0 16 16\"><path d=\"M1.69 2A4.582 4.582 0 0 1 8 2.023 4.583 4.583 0 0 1 11.88.817h.002a4.618 4.618 0 0 1 3.782 3.65v.003a4.543 4.543 0 0 1-1.011 3.84L9.35 14.629a1.765 1.765 0 0 1-2.093.464 1.762 1.762 0 0 1-.605-.463L1.348 8.309A4.582 4.582 0 0 1 1.689 2zm3.158.252A3.082 3.082 0 0 0 2.49 7.337l.005.005L7.8 13.664a.264.264 0 0 0 .311.069.262.262 0 0 0 .09-.069l5.312-6.33a3.043 3.043 0 0 0 .68-2.573 3.118 3.118 0 0 0-2.551-2.463 3.079 3.079 0 0 0-2.612.816l-.007.007a1.501 1.501 0 0 1-2.045 0l-.009-.008a3.082 3.082 0 0 0-2.121-.861z\"></path></svg></span></button><div class=\"encore-text encore-text-body-small encore-internal-color-text-subdued l5CmSxiQaap8rWOOpEpk\" data-encore-id=\"text\">4:21</div><button aria-haspopup=\"menu\" aria-label=\"More options for All Kinds Of Time by Fountains Of Wayne\" class=\"Button-sc-1dqy6lx-0 idcAJd ObVor_8sQq5whKbtWs8a\" data-encore-id=\"buttonTertiary\" data-testid=\"more-button\" tabindex=\"-1\"><span aria-hidden=\"true\" class=\"IconWrapper__Wrapper-sc-16usrgb-0 hYdsxw\"><svg aria-hidden=\"true\" class=\"Svg-sc-ytk21e-0 dYnaPI\" data-encore-id=\"icon\" role=\"img\" viewbox=\"0 0 16 16\"><path d=\"M3 8a1.5 1.5 0 1 1-3 0 1.5 1.5 0 0 1 3 0zm6.5 0a1.5 1.5 0 1 1-3 0 1.5 1.5 0 0 1 3 0zM16 8a1.5 1.5 0 1 1-3 0 1.5 1.5 0 0 1 3 0z\"></path></svg></span></button></div></div></div>,\n",
       " <div aria-rowindex=\"8\" aria-selected=\"false\" role=\"row\"><div class=\"IjYxRc5luMiDPhKhZVUH UpiE7J6vPrJIa59qxts4\" data-testid=\"tracklist-row\" draggable=\"true\" role=\"presentation\"><div aria-colindex=\"1\" class=\"fS0C4IgbHviZxIVGC736\" role=\"gridcell\"><div class=\"ucB9avGYvzsmzXUOw0S7\"><span class=\"encore-text encore-text-body-medium xNyTkXEncSjszLNI65Nq\" data-encore-id=\"text\">8</span><button aria-label=\"Play Bright Future In Sales by Fountains Of Wayne\" class=\"j2s64Lz8y6VzBLB_V9Gm\" tabindex=\"-1\"><svg aria-hidden=\"true\" class=\"Svg-sc-ytk21e-0 bneLcE zOsKPnD_9x3KJqQCSmAq\" data-encore-id=\"icon\" role=\"img\" viewbox=\"0 0 24 24\"><path d=\"m7.05 3.606 13.49 7.788a.7.7 0 0 1 0 1.212L7.05 20.394A.7.7 0 0 1 6 19.788V4.212a.7.7 0 0 1 1.05-.606z\"></path></svg></button></div></div><div aria-colindex=\"2\" class=\"w46g_LQVSLE9xK399VYf\" role=\"gridcell\"><img alt=\"\" aria-hidden=\"false\" class=\"mMx2LUixlnN_Fu45JpFB IqDKYprOtD_EJR1WClPv Yn2Ei5QZn19gria6LjZj\" draggable=\"false\" height=\"40\" loading=\"eager\" src=\"https://i.scdn.co/image/ab67616d00001e02079e826265dffc3a8a26bac5\" style=\"border-radius: 4px;\" width=\"40\"/><div class=\"_iQpvk1c9OgRAc8KRTlH\"><a class=\"btE2c3IKaOXZ4VNAb8WQ\" data-testid=\"internal-track-link\" draggable=\"false\" href=\"/track/6ZSf7RLIbwYsz9cz6KY6VA\" tabindex=\"-1\"><div class=\"encore-text encore-text-body-medium encore-internal-color-text-base btE2c3IKaOXZ4VNAb8WQ standalone-ellipsis-one-line\" data-encore-id=\"text\" dir=\"auto\">Bright Future In Sales</div></a><span class=\"encore-text encore-text-body-medium encore-internal-color-text-subdued _7_yPy5jfb9kzk3gijq6A\" data-encore-id=\"text\"><span aria-label=\"Explicit\" class=\"kpGMQq1KFz620g_BD_dS\" title=\"Explicit\">E</span></span></div></div><div aria-colindex=\"3\" class=\"_TH6YAXEzJtzSxhkGSqu\" role=\"gridcell\"><div class=\"encore-text encore-text-body-small HxDMwNr5oCxTOyqt85gi\" data-encore-id=\"text\">3,368,505</div></div><div aria-colindex=\"4\" class=\"PAqIqZXvse_3h6sDVxU0\" role=\"gridcell\"><button aria-checked=\"false\" aria-label=\"Save to Your Library\" class=\"Button-sc-1dqy6lx-0 idcAJd GcODM2Bp3srQqJzi8Tzs\" data-encore-id=\"buttonTertiary\" data-testid=\"add-button\" tabindex=\"-1\"><span aria-hidden=\"true\" class=\"IconWrapper__Wrapper-sc-16usrgb-0 hYdsxw\"><svg aria-hidden=\"true\" class=\"Svg-sc-ytk21e-0 dYnaPI\" data-encore-id=\"icon\" role=\"img\" viewbox=\"0 0 16 16\"><path d=\"M1.69 2A4.582 4.582 0 0 1 8 2.023 4.583 4.583 0 0 1 11.88.817h.002a4.618 4.618 0 0 1 3.782 3.65v.003a4.543 4.543 0 0 1-1.011 3.84L9.35 14.629a1.765 1.765 0 0 1-2.093.464 1.762 1.762 0 0 1-.605-.463L1.348 8.309A4.582 4.582 0 0 1 1.689 2zm3.158.252A3.082 3.082 0 0 0 2.49 7.337l.005.005L7.8 13.664a.264.264 0 0 0 .311.069.262.262 0 0 0 .09-.069l5.312-6.33a3.043 3.043 0 0 0 .68-2.573 3.118 3.118 0 0 0-2.551-2.463 3.079 3.079 0 0 0-2.612.816l-.007.007a1.501 1.501 0 0 1-2.045 0l-.009-.008a3.082 3.082 0 0 0-2.121-.861z\"></path></svg></span></button><div class=\"encore-text encore-text-body-small encore-internal-color-text-subdued l5CmSxiQaap8rWOOpEpk\" data-encore-id=\"text\">3:06</div><button aria-haspopup=\"menu\" aria-label=\"More options for Bright Future In Sales by Fountains Of Wayne\" class=\"Button-sc-1dqy6lx-0 idcAJd ObVor_8sQq5whKbtWs8a\" data-encore-id=\"buttonTertiary\" data-testid=\"more-button\" tabindex=\"-1\"><span aria-hidden=\"true\" class=\"IconWrapper__Wrapper-sc-16usrgb-0 hYdsxw\"><svg aria-hidden=\"true\" class=\"Svg-sc-ytk21e-0 dYnaPI\" data-encore-id=\"icon\" role=\"img\" viewbox=\"0 0 16 16\"><path d=\"M3 8a1.5 1.5 0 1 1-3 0 1.5 1.5 0 0 1 3 0zm6.5 0a1.5 1.5 0 1 1-3 0 1.5 1.5 0 0 1 3 0zM16 8a1.5 1.5 0 1 1-3 0 1.5 1.5 0 0 1 3 0z\"></path></svg></span></button></div></div></div>,\n",
       " <div aria-rowindex=\"9\" aria-selected=\"false\" role=\"row\"><div class=\"IjYxRc5luMiDPhKhZVUH UpiE7J6vPrJIa59qxts4\" data-testid=\"tracklist-row\" draggable=\"true\" role=\"presentation\"><div aria-colindex=\"1\" class=\"fS0C4IgbHviZxIVGC736\" role=\"gridcell\"><div class=\"ucB9avGYvzsmzXUOw0S7\"><span class=\"encore-text encore-text-body-medium xNyTkXEncSjszLNI65Nq\" data-encore-id=\"text\">9</span><button aria-label=\"Play Denise by Fountains Of Wayne\" class=\"j2s64Lz8y6VzBLB_V9Gm\" tabindex=\"-1\"><svg aria-hidden=\"true\" class=\"Svg-sc-ytk21e-0 bneLcE zOsKPnD_9x3KJqQCSmAq\" data-encore-id=\"icon\" role=\"img\" viewbox=\"0 0 24 24\"><path d=\"m7.05 3.606 13.49 7.788a.7.7 0 0 1 0 1.212L7.05 20.394A.7.7 0 0 1 6 19.788V4.212a.7.7 0 0 1 1.05-.606z\"></path></svg></button></div></div><div aria-colindex=\"2\" class=\"w46g_LQVSLE9xK399VYf\" role=\"gridcell\"><img alt=\"\" aria-hidden=\"false\" class=\"mMx2LUixlnN_Fu45JpFB IqDKYprOtD_EJR1WClPv Yn2Ei5QZn19gria6LjZj\" draggable=\"false\" height=\"40\" loading=\"eager\" src=\"https://i.scdn.co/image/ab67616d00001e022f250dc37841c8da6cbd8c0d\" style=\"border-radius: 4px;\" width=\"40\"/><div class=\"_iQpvk1c9OgRAc8KRTlH\"><a class=\"btE2c3IKaOXZ4VNAb8WQ\" data-testid=\"internal-track-link\" draggable=\"false\" href=\"/track/7Ijr2MeaWwyqXp48bSu1Cl\" tabindex=\"-1\"><div class=\"encore-text encore-text-body-medium encore-internal-color-text-base btE2c3IKaOXZ4VNAb8WQ standalone-ellipsis-one-line\" data-encore-id=\"text\" dir=\"auto\">Denise</div></a></div></div><div aria-colindex=\"3\" class=\"_TH6YAXEzJtzSxhkGSqu\" role=\"gridcell\"><div class=\"encore-text encore-text-body-small HxDMwNr5oCxTOyqt85gi\" data-encore-id=\"text\">1,337,388</div></div><div aria-colindex=\"4\" class=\"PAqIqZXvse_3h6sDVxU0\" role=\"gridcell\"><button aria-checked=\"false\" aria-label=\"Save to Your Library\" class=\"Button-sc-1dqy6lx-0 idcAJd GcODM2Bp3srQqJzi8Tzs\" data-encore-id=\"buttonTertiary\" data-testid=\"add-button\" tabindex=\"-1\"><span aria-hidden=\"true\" class=\"IconWrapper__Wrapper-sc-16usrgb-0 hYdsxw\"><svg aria-hidden=\"true\" class=\"Svg-sc-ytk21e-0 dYnaPI\" data-encore-id=\"icon\" role=\"img\" viewbox=\"0 0 16 16\"><path d=\"M1.69 2A4.582 4.582 0 0 1 8 2.023 4.583 4.583 0 0 1 11.88.817h.002a4.618 4.618 0 0 1 3.782 3.65v.003a4.543 4.543 0 0 1-1.011 3.84L9.35 14.629a1.765 1.765 0 0 1-2.093.464 1.762 1.762 0 0 1-.605-.463L1.348 8.309A4.582 4.582 0 0 1 1.689 2zm3.158.252A3.082 3.082 0 0 0 2.49 7.337l.005.005L7.8 13.664a.264.264 0 0 0 .311.069.262.262 0 0 0 .09-.069l5.312-6.33a3.043 3.043 0 0 0 .68-2.573 3.118 3.118 0 0 0-2.551-2.463 3.079 3.079 0 0 0-2.612.816l-.007.007a1.501 1.501 0 0 1-2.045 0l-.009-.008a3.082 3.082 0 0 0-2.121-.861z\"></path></svg></span></button><div class=\"encore-text encore-text-body-small encore-internal-color-text-subdued l5CmSxiQaap8rWOOpEpk\" data-encore-id=\"text\">2:33</div><button aria-haspopup=\"menu\" aria-label=\"More options for Denise by Fountains Of Wayne\" class=\"Button-sc-1dqy6lx-0 idcAJd ObVor_8sQq5whKbtWs8a\" data-encore-id=\"buttonTertiary\" data-testid=\"more-button\" tabindex=\"-1\"><span aria-hidden=\"true\" class=\"IconWrapper__Wrapper-sc-16usrgb-0 hYdsxw\"><svg aria-hidden=\"true\" class=\"Svg-sc-ytk21e-0 dYnaPI\" data-encore-id=\"icon\" role=\"img\" viewbox=\"0 0 16 16\"><path d=\"M3 8a1.5 1.5 0 1 1-3 0 1.5 1.5 0 0 1 3 0zm6.5 0a1.5 1.5 0 1 1-3 0 1.5 1.5 0 0 1 3 0zM16 8a1.5 1.5 0 1 1-3 0 1.5 1.5 0 0 1 3 0z\"></path></svg></span></button></div></div></div>,\n",
       " <div aria-rowindex=\"10\" aria-selected=\"false\" role=\"row\"><div class=\"IjYxRc5luMiDPhKhZVUH UpiE7J6vPrJIa59qxts4\" data-testid=\"tracklist-row\" draggable=\"true\" role=\"presentation\"><div aria-colindex=\"1\" class=\"fS0C4IgbHviZxIVGC736\" role=\"gridcell\"><div class=\"ucB9avGYvzsmzXUOw0S7\"><span class=\"encore-text encore-text-body-medium xNyTkXEncSjszLNI65Nq\" data-encore-id=\"text\">10</span><button aria-label=\"Play Someone To Love by Fountains Of Wayne\" class=\"j2s64Lz8y6VzBLB_V9Gm\" tabindex=\"-1\"><svg aria-hidden=\"true\" class=\"Svg-sc-ytk21e-0 bneLcE zOsKPnD_9x3KJqQCSmAq\" data-encore-id=\"icon\" role=\"img\" viewbox=\"0 0 24 24\"><path d=\"m7.05 3.606 13.49 7.788a.7.7 0 0 1 0 1.212L7.05 20.394A.7.7 0 0 1 6 19.788V4.212a.7.7 0 0 1 1.05-.606z\"></path></svg></button></div></div><div aria-colindex=\"2\" class=\"w46g_LQVSLE9xK399VYf\" role=\"gridcell\"><img alt=\"\" aria-hidden=\"false\" class=\"mMx2LUixlnN_Fu45JpFB IqDKYprOtD_EJR1WClPv Yn2Ei5QZn19gria6LjZj\" draggable=\"false\" height=\"40\" loading=\"eager\" src=\"https://i.scdn.co/image/ab67616d00001e0274b33f06e13632e9c027415b\" style=\"border-radius: 4px;\" width=\"40\"/><div class=\"_iQpvk1c9OgRAc8KRTlH\"><a class=\"btE2c3IKaOXZ4VNAb8WQ\" data-testid=\"internal-track-link\" draggable=\"false\" href=\"/track/18XPe3ppnZ09SAP6YFPquX\" tabindex=\"-1\"><div class=\"encore-text encore-text-body-medium encore-internal-color-text-base btE2c3IKaOXZ4VNAb8WQ standalone-ellipsis-one-line\" data-encore-id=\"text\" dir=\"auto\">Someone To Love</div></a></div></div><div aria-colindex=\"3\" class=\"_TH6YAXEzJtzSxhkGSqu\" role=\"gridcell\"><div class=\"encore-text encore-text-body-small HxDMwNr5oCxTOyqt85gi\" data-encore-id=\"text\">2,095,835</div></div><div aria-colindex=\"4\" class=\"PAqIqZXvse_3h6sDVxU0\" role=\"gridcell\"><button aria-checked=\"false\" aria-label=\"Save to Your Library\" class=\"Button-sc-1dqy6lx-0 idcAJd GcODM2Bp3srQqJzi8Tzs\" data-encore-id=\"buttonTertiary\" data-testid=\"add-button\" tabindex=\"-1\"><span aria-hidden=\"true\" class=\"IconWrapper__Wrapper-sc-16usrgb-0 hYdsxw\"><svg aria-hidden=\"true\" class=\"Svg-sc-ytk21e-0 dYnaPI\" data-encore-id=\"icon\" role=\"img\" viewbox=\"0 0 16 16\"><path d=\"M1.69 2A4.582 4.582 0 0 1 8 2.023 4.583 4.583 0 0 1 11.88.817h.002a4.618 4.618 0 0 1 3.782 3.65v.003a4.543 4.543 0 0 1-1.011 3.84L9.35 14.629a1.765 1.765 0 0 1-2.093.464 1.762 1.762 0 0 1-.605-.463L1.348 8.309A4.582 4.582 0 0 1 1.689 2zm3.158.252A3.082 3.082 0 0 0 2.49 7.337l.005.005L7.8 13.664a.264.264 0 0 0 .311.069.262.262 0 0 0 .09-.069l5.312-6.33a3.043 3.043 0 0 0 .68-2.573 3.118 3.118 0 0 0-2.551-2.463 3.079 3.079 0 0 0-2.612.816l-.007.007a1.501 1.501 0 0 1-2.045 0l-.009-.008a3.082 3.082 0 0 0-2.121-.861z\"></path></svg></span></button><div class=\"encore-text encore-text-body-small encore-internal-color-text-subdued l5CmSxiQaap8rWOOpEpk\" data-encore-id=\"text\">3:52</div><button aria-haspopup=\"menu\" aria-label=\"More options for Someone To Love by Fountains Of Wayne\" class=\"Button-sc-1dqy6lx-0 idcAJd ObVor_8sQq5whKbtWs8a\" data-encore-id=\"buttonTertiary\" data-testid=\"more-button\" tabindex=\"-1\"><span aria-hidden=\"true\" class=\"IconWrapper__Wrapper-sc-16usrgb-0 hYdsxw\"><svg aria-hidden=\"true\" class=\"Svg-sc-ytk21e-0 dYnaPI\" data-encore-id=\"icon\" role=\"img\" viewbox=\"0 0 16 16\"><path d=\"M3 8a1.5 1.5 0 1 1-3 0 1.5 1.5 0 0 1 3 0zm6.5 0a1.5 1.5 0 1 1-3 0 1.5 1.5 0 0 1 3 0zM16 8a1.5 1.5 0 1 1-3 0 1.5 1.5 0 0 1 3 0z\"></path></svg></span></button></div></div></div>]"
      ]
     },
     "execution_count": 43,
     "metadata": {},
     "output_type": "execute_result"
    }
   ],
   "source": [
    "top_songs"
   ]
  },
  {
   "cell_type": "code",
   "execution_count": 44,
   "id": "b0479c69-724b-4fad-86d2-f4f59f354e35",
   "metadata": {},
   "outputs": [
    {
     "data": {
      "text/plain": [
       "10"
      ]
     },
     "execution_count": 44,
     "metadata": {},
     "output_type": "execute_result"
    }
   ],
   "source": [
    "len(top_songs)"
   ]
  },
  {
   "cell_type": "code",
   "execution_count": 45,
   "id": "45c2f3d9-0d7d-4d86-a16f-2c3a5e8f8cfa",
   "metadata": {},
   "outputs": [
    {
     "name": "stdout",
     "output_type": "stream",
     "text": [
      "Stacy's Mom 470,767,331\n",
      "Hey Julie 27,133,462\n",
      "Sink to the Bottom 10,131,899\n",
      "Hackensack 8,808,410\n",
      "Radiation Vibe 5,206,064\n",
      "Mexican Wine 5,587,231\n",
      "All Kinds Of Time 5,784,404\n",
      "Bright Future In Sales 3,368,505\n",
      "Denise 1,337,388\n",
      "Someone To Love 2,095,835\n"
     ]
    }
   ],
   "source": [
    "for song in top_songs:\n",
    "    title = song.find(class_=\"encore-text encore-text-body-medium encore-internal-color-text-base btE2c3IKaOXZ4VNAb8WQ standalone-ellipsis-one-line\").text\n",
    "    play_count = song.find(class_=\"encore-text encore-text-body-small HxDMwNr5oCxTOyqt85gi\").text\n",
    "    print(title, play_count)"
   ]
  },
  {
   "cell_type": "markdown",
   "id": "2e175069-bc8b-48fa-af11-f610d3ff2cc6",
   "metadata": {},
   "source": [
    "### Filling the Blank Spaces!! (Saving to a CSV)"
   ]
  },
  {
   "cell_type": "code",
   "execution_count": 46,
   "id": "0dd65dd1-1cea-48f8-b5fd-beeed19277c1",
   "metadata": {},
   "outputs": [],
   "source": [
    "html = await page.content()"
   ]
  },
  {
   "cell_type": "code",
   "execution_count": 47,
   "id": "857228f4-ac03-4178-8bb4-f3b03aca940c",
   "metadata": {},
   "outputs": [],
   "source": [
    "import pandas as pd"
   ]
  },
  {
   "cell_type": "code",
   "execution_count": 48,
   "id": "57d0376d-2a74-4f3b-a024-1feab31a1202",
   "metadata": {},
   "outputs": [
    {
     "name": "stdout",
     "output_type": "stream",
     "text": [
      "Requirement already satisfied: html5lib in /Users/T/.pyenv/versions/3.11.8/lib/python3.11/site-packages (1.1)\n",
      "Requirement already satisfied: six>=1.9 in /Users/T/.pyenv/versions/3.11.8/lib/python3.11/site-packages (from html5lib) (1.16.0)\n",
      "Requirement already satisfied: webencodings in /Users/T/.pyenv/versions/3.11.8/lib/python3.11/site-packages (from html5lib) (0.5.1)\n",
      "\n",
      "\u001b[1m[\u001b[0m\u001b[34;49mnotice\u001b[0m\u001b[1;39;49m]\u001b[0m\u001b[39;49m A new release of pip is available: \u001b[0m\u001b[31;49m24.0\u001b[0m\u001b[39;49m -> \u001b[0m\u001b[32;49m24.1.2\u001b[0m\n",
      "\u001b[1m[\u001b[0m\u001b[34;49mnotice\u001b[0m\u001b[1;39;49m]\u001b[0m\u001b[39;49m To update, run: \u001b[0m\u001b[32;49mpip install --upgrade pip\u001b[0m\n"
     ]
    }
   ],
   "source": [
    "! pip install html5lib"
   ]
  },
  {
   "cell_type": "code",
   "execution_count": 49,
   "id": "1ee87fbf-bab1-4060-a255-74f7bfb4f4cc",
   "metadata": {},
   "outputs": [
    {
     "name": "stdout",
     "output_type": "stream",
     "text": [
      "----\n",
      "{'title': \"Stacy's Mom\", 'play_count': '470,767,331'}\n",
      "----\n",
      "{'title': 'Hey Julie', 'play_count': '27,133,462'}\n",
      "----\n",
      "{'title': 'Sink to the Bottom', 'play_count': '10,131,899'}\n",
      "----\n",
      "{'title': 'Hackensack', 'play_count': '8,808,410'}\n",
      "----\n",
      "{'title': 'Radiation Vibe', 'play_count': '5,206,064'}\n",
      "----\n",
      "{'title': 'Mexican Wine', 'play_count': '5,587,231'}\n",
      "----\n",
      "{'title': 'All Kinds Of Time', 'play_count': '5,784,404'}\n",
      "----\n",
      "{'title': 'Bright Future In Sales', 'play_count': '3,368,505'}\n",
      "----\n",
      "{'title': 'Denise', 'play_count': '1,337,388'}\n",
      "----\n",
      "{'title': 'Someone To Love', 'play_count': '2,095,835'}\n"
     ]
    }
   ],
   "source": [
    "rows = []\n",
    "\n",
    "top_songs = doc.find_all('div', role='row')\n",
    "for song in top_songs:\n",
    "    print(\"----\")\n",
    "\n",
    "    row = {}\n",
    "\n",
    "    try:\n",
    "        row['title'] = song.find(class_=\"encore-text encore-text-body-medium encore-internal-color-text-base btE2c3IKaOXZ4VNAb8WQ standalone-ellipsis-one-line\").text\n",
    "    except:\n",
    "        row['title'] = None\n",
    "\n",
    "    try:\n",
    "        row['play_count'] = song.find(class_=\"encore-text encore-text-body-small HxDMwNr5oCxTOyqt85gi\").text\n",
    "    except:\n",
    "        row['play_count'] = None\n",
    "\n",
    "    print(row)\n",
    "\n",
    "    rows.append(row)"
   ]
  },
  {
   "cell_type": "code",
   "execution_count": 50,
   "id": "6141589a-f61a-45a8-92d9-9b0675f25f74",
   "metadata": {},
   "outputs": [
    {
     "data": {
      "text/html": [
       "<div>\n",
       "<style scoped>\n",
       "    .dataframe tbody tr th:only-of-type {\n",
       "        vertical-align: middle;\n",
       "    }\n",
       "\n",
       "    .dataframe tbody tr th {\n",
       "        vertical-align: top;\n",
       "    }\n",
       "\n",
       "    .dataframe thead th {\n",
       "        text-align: right;\n",
       "    }\n",
       "</style>\n",
       "<table border=\"1\" class=\"dataframe\">\n",
       "  <thead>\n",
       "    <tr style=\"text-align: right;\">\n",
       "      <th></th>\n",
       "      <th>title</th>\n",
       "      <th>play_count</th>\n",
       "    </tr>\n",
       "  </thead>\n",
       "  <tbody>\n",
       "    <tr>\n",
       "      <th>0</th>\n",
       "      <td>Stacy's Mom</td>\n",
       "      <td>470,767,331</td>\n",
       "    </tr>\n",
       "    <tr>\n",
       "      <th>1</th>\n",
       "      <td>Hey Julie</td>\n",
       "      <td>27,133,462</td>\n",
       "    </tr>\n",
       "    <tr>\n",
       "      <th>2</th>\n",
       "      <td>Sink to the Bottom</td>\n",
       "      <td>10,131,899</td>\n",
       "    </tr>\n",
       "    <tr>\n",
       "      <th>3</th>\n",
       "      <td>Hackensack</td>\n",
       "      <td>8,808,410</td>\n",
       "    </tr>\n",
       "    <tr>\n",
       "      <th>4</th>\n",
       "      <td>Radiation Vibe</td>\n",
       "      <td>5,206,064</td>\n",
       "    </tr>\n",
       "    <tr>\n",
       "      <th>5</th>\n",
       "      <td>Mexican Wine</td>\n",
       "      <td>5,587,231</td>\n",
       "    </tr>\n",
       "    <tr>\n",
       "      <th>6</th>\n",
       "      <td>All Kinds Of Time</td>\n",
       "      <td>5,784,404</td>\n",
       "    </tr>\n",
       "    <tr>\n",
       "      <th>7</th>\n",
       "      <td>Bright Future In Sales</td>\n",
       "      <td>3,368,505</td>\n",
       "    </tr>\n",
       "    <tr>\n",
       "      <th>8</th>\n",
       "      <td>Denise</td>\n",
       "      <td>1,337,388</td>\n",
       "    </tr>\n",
       "    <tr>\n",
       "      <th>9</th>\n",
       "      <td>Someone To Love</td>\n",
       "      <td>2,095,835</td>\n",
       "    </tr>\n",
       "  </tbody>\n",
       "</table>\n",
       "</div>"
      ],
      "text/plain": [
       "                    title   play_count\n",
       "0             Stacy's Mom  470,767,331\n",
       "1               Hey Julie   27,133,462\n",
       "2      Sink to the Bottom   10,131,899\n",
       "3              Hackensack    8,808,410\n",
       "4          Radiation Vibe    5,206,064\n",
       "5            Mexican Wine    5,587,231\n",
       "6       All Kinds Of Time    5,784,404\n",
       "7  Bright Future In Sales    3,368,505\n",
       "8                  Denise    1,337,388\n",
       "9         Someone To Love    2,095,835"
      ]
     },
     "execution_count": 50,
     "metadata": {},
     "output_type": "execute_result"
    }
   ],
   "source": [
    "df = pd.DataFrame(rows)\n",
    "df\n"
   ]
  },
  {
   "cell_type": "code",
   "execution_count": 51,
   "id": "5d473bd9",
   "metadata": {},
   "outputs": [],
   "source": [
    "df.play_count=df.play_count.str.replace(',','').astype(int)\n",
    "df['rank'] = df.play_count.rank()"
   ]
  },
  {
   "cell_type": "code",
   "execution_count": 52,
   "id": "d62b3304-77cf-4c00-8b61-fcd0ddf6c5f3",
   "metadata": {},
   "outputs": [],
   "source": [
    "df.to_csv('top_songs.csv', index=False)"
   ]
  },
  {
   "cell_type": "markdown",
   "id": "ed83639f-ca3d-4409-b64b-1898981beec8",
   "metadata": {},
   "source": [
    "## It was the end of a decade\n",
    "## But the start of an age"
   ]
  },
  {
   "cell_type": "code",
   "execution_count": 53,
   "id": "30f50807-a6e7-466d-b227-b9921e3a06c9",
   "metadata": {},
   "outputs": [
    {
     "data": {
      "text/html": [
       "<div>\n",
       "<style scoped>\n",
       "    .dataframe tbody tr th:only-of-type {\n",
       "        vertical-align: middle;\n",
       "    }\n",
       "\n",
       "    .dataframe tbody tr th {\n",
       "        vertical-align: top;\n",
       "    }\n",
       "\n",
       "    .dataframe thead th {\n",
       "        text-align: right;\n",
       "    }\n",
       "</style>\n",
       "<table border=\"1\" class=\"dataframe\">\n",
       "  <thead>\n",
       "    <tr style=\"text-align: right;\">\n",
       "      <th></th>\n",
       "      <th>title</th>\n",
       "      <th>play_count</th>\n",
       "      <th>rank</th>\n",
       "    </tr>\n",
       "  </thead>\n",
       "  <tbody>\n",
       "    <tr>\n",
       "      <th>0</th>\n",
       "      <td>Stacy's Mom</td>\n",
       "      <td>470767331</td>\n",
       "      <td>10.0</td>\n",
       "    </tr>\n",
       "    <tr>\n",
       "      <th>1</th>\n",
       "      <td>Hey Julie</td>\n",
       "      <td>27133462</td>\n",
       "      <td>9.0</td>\n",
       "    </tr>\n",
       "    <tr>\n",
       "      <th>2</th>\n",
       "      <td>Sink to the Bottom</td>\n",
       "      <td>10131899</td>\n",
       "      <td>8.0</td>\n",
       "    </tr>\n",
       "    <tr>\n",
       "      <th>3</th>\n",
       "      <td>Hackensack</td>\n",
       "      <td>8808410</td>\n",
       "      <td>7.0</td>\n",
       "    </tr>\n",
       "    <tr>\n",
       "      <th>4</th>\n",
       "      <td>Radiation Vibe</td>\n",
       "      <td>5206064</td>\n",
       "      <td>4.0</td>\n",
       "    </tr>\n",
       "    <tr>\n",
       "      <th>5</th>\n",
       "      <td>Mexican Wine</td>\n",
       "      <td>5587231</td>\n",
       "      <td>5.0</td>\n",
       "    </tr>\n",
       "    <tr>\n",
       "      <th>6</th>\n",
       "      <td>All Kinds Of Time</td>\n",
       "      <td>5784404</td>\n",
       "      <td>6.0</td>\n",
       "    </tr>\n",
       "    <tr>\n",
       "      <th>7</th>\n",
       "      <td>Bright Future In Sales</td>\n",
       "      <td>3368505</td>\n",
       "      <td>3.0</td>\n",
       "    </tr>\n",
       "    <tr>\n",
       "      <th>8</th>\n",
       "      <td>Denise</td>\n",
       "      <td>1337388</td>\n",
       "      <td>1.0</td>\n",
       "    </tr>\n",
       "    <tr>\n",
       "      <th>9</th>\n",
       "      <td>Someone To Love</td>\n",
       "      <td>2095835</td>\n",
       "      <td>2.0</td>\n",
       "    </tr>\n",
       "  </tbody>\n",
       "</table>\n",
       "</div>"
      ],
      "text/plain": [
       "                    title  play_count  rank\n",
       "0             Stacy's Mom   470767331  10.0\n",
       "1               Hey Julie    27133462   9.0\n",
       "2      Sink to the Bottom    10131899   8.0\n",
       "3              Hackensack     8808410   7.0\n",
       "4          Radiation Vibe     5206064   4.0\n",
       "5            Mexican Wine     5587231   5.0\n",
       "6       All Kinds Of Time     5784404   6.0\n",
       "7  Bright Future In Sales     3368505   3.0\n",
       "8                  Denise     1337388   1.0\n",
       "9         Someone To Love     2095835   2.0"
      ]
     },
     "execution_count": 53,
     "metadata": {},
     "output_type": "execute_result"
    }
   ],
   "source": [
    "df"
   ]
  },
  {
   "cell_type": "code",
   "execution_count": null,
   "id": "68f7d54a-2a57-45be-9ecb-4bbdd7d90df5",
   "metadata": {},
   "outputs": [],
   "source": []
  }
 ],
 "metadata": {
  "kernelspec": {
   "display_name": "Python 3 (ipykernel)",
   "language": "python",
   "name": "python3"
  },
  "language_info": {
   "codemirror_mode": {
    "name": "ipython",
    "version": 3
   },
   "file_extension": ".py",
   "mimetype": "text/x-python",
   "name": "python",
   "nbconvert_exporter": "python",
   "pygments_lexer": "ipython3",
   "version": "3.11.8"
  }
 },
 "nbformat": 4,
 "nbformat_minor": 5
}
