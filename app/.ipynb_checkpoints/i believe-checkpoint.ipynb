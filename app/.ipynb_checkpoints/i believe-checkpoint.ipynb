{
 "cells": [
  {
   "cell_type": "code",
   "execution_count": 55,
   "id": "3f3a2b2f-8a17-46c5-8d81-d1b7a77cc2c7",
   "metadata": {},
   "outputs": [],
   "source": [
    "import mercury as mr"
   ]
  },
  {
   "cell_type": "code",
   "execution_count": 75,
   "id": "08c34c84-5a16-4c13-9cef-2ec125904b79",
   "metadata": {},
   "outputs": [
    {
     "data": {
      "application/mercury+json": "{\n    \"widget\": \"App\",\n    \"title\": \"\",\n    \"description\": \"let's pray mercury works\",\n    \"show_code\": false,\n    \"show_prompt\": false,\n    \"output\": \"app\",\n    \"schedule\": \"\",\n    \"notify\": \"{}\",\n    \"continuous_update\": true,\n    \"static_notebook\": false,\n    \"show_sidebar\": true,\n    \"full_screen\": true,\n    \"allow_download\": true,\n    \"allow_share\": true,\n    \"stop_on_error\": false,\n    \"model_id\": \"mercury-app\",\n    \"code_uid\": \"App.0.50.110.1-rand8569f4af\"\n}",
      "text/html": [
       "<h3>Mercury Application</h3><small>This output won't appear in the web app.</small>"
      ],
      "text/plain": [
       "mercury.App"
      ]
     },
     "metadata": {},
     "output_type": "display_data"
    },
    {
     "data": {
      "text/markdown": [
       "Starting app..."
      ],
      "text/plain": [
       "<IPython.core.display.Markdown object>"
      ]
     },
     "metadata": {},
     "output_type": "display_data"
    }
   ],
   "source": [
    "app = mr.App(title=\"\", description =\"let's pray mercury works\")\n",
    "\n",
    "mr.Md(\"Starting app...\")\n",
    "\n",
    "# ! set m\n",
    "# !%%capture trashbin\n",
    "!pip --quiet --quiet --quiet install playwright-stealth\n",
    "!: $(playwright install chromium)"
   ]
  },
  {
   "cell_type": "code",
   "execution_count": 58,
   "id": "5e70cc37-5ca2-405e-979a-d5c5349815f7",
   "metadata": {},
   "outputs": [
    {
     "data": {
      "application/mercury+json": "{\n    \"widget\": \"Text\",\n    \"value\": \"Fountains of Wayne\",\n    \"sanitize\": true,\n    \"rows\": 1,\n    \"label\": \"Artist Name:\",\n    \"model_id\": \"c23ea5177d31427fb937b4dd0498f171\",\n    \"code_uid\": \"Text.0.50.78.1-rand5ac56780\",\n    \"url_key\": \"\",\n    \"disabled\": false,\n    \"hidden\": false\n}",
      "application/vnd.jupyter.widget-view+json": {
       "model_id": "c23ea5177d31427fb937b4dd0498f171",
       "version_major": 2,
       "version_minor": 0
      },
      "text/plain": [
       "mercury.Text"
      ]
     },
     "metadata": {},
     "output_type": "display_data"
    }
   ],
   "source": [
    "artistInput = mr.Text(label = \"Artist Name:\", value=\"Fountains of Wayne\",rows = 1)"
   ]
  },
  {
   "cell_type": "code",
   "execution_count": null,
   "id": "e62afed4-afd4-45cf-8ede-e3ae2de0657b",
   "metadata": {},
   "outputs": [],
   "source": [
    "mr.Md(f\"\"\"## Okay, let's test {artistInput.value}!\"\"\")"
   ]
  },
  {
   "cell_type": "code",
   "execution_count": null,
   "id": "ed4d3ab1-e0bd-46fb-bf57-803b8a59c6c7",
   "metadata": {},
   "outputs": [],
   "source": [
    "import pandas as pd\n",
    "import os\n",
    "from playwright.async_api import async_playwright\n",
    "from playwright_stealth import stealth_async\n",
    "\n",
    "artistInputText = artistInput.value.replace(\" \", \"%20\")\n",
    "print(f\"Searching {artistInput.value}...\")\n",
    "\n",
    "url = f\"https://open.spotify.com/search/{artistInputText}/artists\"\n",
    "print(\"URL Found!\")\n",
    "\n",
    "playwright = await async_playwright().start()\n",
    "browser = await playwright.chromium.launch(headless = True)\n",
    "page = await browser.new_page()\n",
    "\n",
    "await page.goto(url)\n",
    "await page.get_by_test_id('search-category-card-0').click()\n",
    "\n",
    "all_Tay = page.locator('See more')\n",
    "await page.click('text=See more')\n",
    "\n",
    "from bs4 import BeautifulSoup\n",
    "print(\"Page loaded!\")\n",
    "\n",
    "doc = BeautifulSoup(await page.content())\n",
    "\n",
    "top_songs = doc.find_all('div', role='row')\n",
    "\n",
    "print(\"Gathering data...\")\n",
    "rows = []\n",
    "rank = 1\n",
    "artists = []\n",
    "title = doc.find_all(class_ = \"encore-text encore-text-headline-large encore-internal-color-text-base\")\n",
    "top_songs = doc.find_all('div', role='row')\n",
    "for song in top_songs:\n",
    "    #print(\"----\")\n",
    "\n",
    "    row = {}\n",
    "\n",
    "    try:\n",
    "        row['title'] = song.find(class_=\"encore-text encore-text-body-medium encore-internal-color-text-base btE2c3IKaOXZ4VNAb8WQ standalone-ellipsis-one-line\").text\n",
    "    except:\n",
    "        row['title'] = None\n",
    "\n",
    "    try:\n",
    "         row['artist'] = title[0].text\n",
    "    except:\n",
    "         row['artist'] = None\n",
    "\n",
    "    try:\n",
    "        row['play_count'] = song.find(class_=\"encore-text encore-text-body-small HxDMwNr5oCxTOyqt85gi\").text\n",
    "    except:\n",
    "        row['play_count'] = None\n",
    "\n",
    "    rows.append(row)\n",
    "\n",
    "dataTime = pd.DataFrame(rows)\n",
    "print(\"Creating tables...\")\n",
    "\n",
    "dataTime['play_count'] = dataTime['play_count'].str.replace(\",\",\"\")\n",
    "dataTime['play_count'] = dataTime['play_count'].astype(int)\n",
    "dataTime = dataTime.sort_values(by = 'play_count', ascending = False)\n",
    "dataTime['rank'] = [1,2,3,4,5,6,7,8,9,10]\n",
    "dataTime.set_index('rank', inplace = True)\n",
    "\n",
    "percentage = (dataTime['play_count'][1]/sum(dataTime['play_count']))*100\n",
    "\n",
    "if percentage < 85:\n",
    "    # print(f\"Your artist, {artistInput.value}, is NOT a one hit wonder!\")\n",
    "    # print(f\"Their top song, {dataTime['title'][1]}, made up {percentage}% of their total listens of {sum(dataTime['play_count'])} at {dataTime['play_count'][1]}\")\n",
    "    yesOrNo = \"IS NOT\"\n",
    "else:\n",
    "    # print(f\"Your artist, {artistInput.value}, IS a one hit wonder!\")\n",
    "    # print(f\"Their top song, {dataTime['title'][1]}, made up {percentage}% of their total listens of {sum(dataTime['play_count'])} at {dataTime['play_count'][1]}\")\n",
    "    yesOrNo = \"IS\"\n",
    "\n",
    "dataTime['percent'] = (dataTime['play_count']/(sum(dataTime['play_count'])))*100\n",
    "dataTime['percent'] = round(dataTime['percent'], 2)\n",
    "    \n",
    "#dataTime"
   ]
  },
  {
   "cell_type": "code",
   "execution_count": null,
   "id": "8af6922e-b1fa-44ca-91de-f161d14e7ad4",
   "metadata": {},
   "outputs": [],
   "source": [
    "mr.Md(f\"\"\"## Your artist, {artistInput.value}, {yesOrNo} a one hit wonder!\"\"\")"
   ]
  },
  {
   "cell_type": "code",
   "execution_count": null,
   "id": "67a7ea35-bf5b-4909-aa07-05cba3b1a7f3",
   "metadata": {},
   "outputs": [],
   "source": [
    "mr.Md(f\"\"\"## Their top song, {dataTime['title'][1]}, made up approximately {dataTime['percent'][1]}% of their total listens of {sum(dataTime['play_count'])} at {dataTime['play_count'][1]}\"\"\")"
   ]
  },
  {
   "cell_type": "code",
   "execution_count": null,
   "id": "217c5919-cb8b-40e8-8ff8-e25e1e92fb8f",
   "metadata": {},
   "outputs": [],
   "source": [
    "mr.Md(\"Here's your data:\")"
   ]
  },
  {
   "cell_type": "code",
   "execution_count": null,
   "id": "398b67f0-5867-424b-9564-c9ccb48c355b",
   "metadata": {},
   "outputs": [],
   "source": [
    "dataTime"
   ]
  }
 ],
 "metadata": {
  "kernelspec": {
   "display_name": "Python 3 (ipykernel)",
   "language": "python",
   "name": "python3"
  },
  "language_info": {
   "codemirror_mode": {
    "name": "ipython",
    "version": 3
   },
   "file_extension": ".py",
   "mimetype": "text/x-python",
   "name": "python",
   "nbconvert_exporter": "python",
   "pygments_lexer": "ipython3",
   "version": "3.11.8"
  }
 },
 "nbformat": 4,
 "nbformat_minor": 5
}
