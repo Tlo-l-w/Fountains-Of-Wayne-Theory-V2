{
 "cells": [
  {
   "cell_type": "code",
   "execution_count": 17,
   "id": "35e96b79-31fa-472b-b4a4-a78869459a10",
   "metadata": {},
   "outputs": [],
   "source": [
    "import mercury as mr"
   ]
  },
  {
   "cell_type": "code",
   "execution_count": 18,
   "id": "8deeccc1-7ebc-490f-90fb-fffdb1ff3767",
   "metadata": {},
   "outputs": [
    {
     "data": {
      "application/mercury+json": "{\n    \"widget\": \"App\",\n    \"title\": \"A Spotify Scraper\",\n    \"description\": \"let's pray mercury works\",\n    \"show_code\": false,\n    \"show_prompt\": false,\n    \"output\": \"app\",\n    \"schedule\": \"\",\n    \"notify\": \"{}\",\n    \"continuous_update\": true,\n    \"static_notebook\": false,\n    \"show_sidebar\": true,\n    \"full_screen\": true,\n    \"allow_download\": true,\n    \"allow_share\": true,\n    \"stop_on_error\": false,\n    \"model_id\": \"mercury-app\",\n    \"code_uid\": \"App.0.50.110.1-rand08e0fe87\"\n}",
      "text/html": [
       "<h3>Mercury Application</h3><small>This output won't appear in the web app.</small>"
      ],
      "text/plain": [
       "mercury.App"
      ]
     },
     "metadata": {},
     "output_type": "display_data"
    }
   ],
   "source": [
    "app = mr.App(title=\"A Spotify Scraper\", description =\"let's pray mercury works\")"
   ]
  },
  {
   "cell_type": "code",
   "execution_count": 19,
   "id": "a7f65531-15aa-4695-ba14-d94ed147c3da",
   "metadata": {
    "scrolled": true
   },
   "outputs": [
    {
     "data": {
      "application/mercury+json": "{\n    \"widget\": \"Text\",\n    \"value\": \"Caravan Palace\",\n    \"sanitize\": true,\n    \"rows\": 1,\n    \"label\": \"Artist Name:\",\n    \"model_id\": \"4783cdb5cecd47a49bf3f23f1fe79be6\",\n    \"code_uid\": \"Text.0.50.78.1-randaca724e1\",\n    \"url_key\": \"\",\n    \"disabled\": false,\n    \"hidden\": false\n}",
      "application/vnd.jupyter.widget-view+json": {
       "model_id": "4783cdb5cecd47a49bf3f23f1fe79be6",
       "version_major": 2,
       "version_minor": 0
      },
      "text/plain": [
       "mercury.Text"
      ]
     },
     "metadata": {},
     "output_type": "display_data"
    }
   ],
   "source": [
    "artistInput = mr.Text(label = \"Artist Name:\", value=\"Caravan Palace\",rows = 1)"
   ]
  },
  {
   "cell_type": "code",
   "execution_count": 24,
   "id": "816a1cdb-139b-4f1b-8b75-c78cf1cd0115",
   "metadata": {},
   "outputs": [
    {
     "data": {
      "text/markdown": [
       "Starting process..."
      ],
      "text/plain": [
       "<IPython.core.display.Markdown object>"
      ]
     },
     "metadata": {},
     "output_type": "display_data"
    },
    {
     "name": "stdout",
     "output_type": "stream",
     "text": [
      "\u001b[31mERROR: pip's dependency resolver does not currently take into account all the packages that are installed. This behaviour is the source of the following dependency conflicts.\n",
      "botocore 1.29.165 requires urllib3<1.27,>=1.25.4, but you have urllib3 2.2.2 which is incompatible.\n",
      "pyppeteer 1.0.2 requires pyee<9.0.0,>=8.1.0, but you have pyee 11.1.0 which is incompatible.\n",
      "pyppeteer 1.0.2 requires urllib3<2.0.0,>=1.25.8, but you have urllib3 2.2.2 which is incompatible.\u001b[0m\u001b[31m\n",
      "\u001b[0m\n",
      "\u001b[1m[\u001b[0m\u001b[34;49mnotice\u001b[0m\u001b[1;39;49m]\u001b[0m\u001b[39;49m A new release of pip is available: \u001b[0m\u001b[31;49m24.0\u001b[0m\u001b[39;49m -> \u001b[0m\u001b[32;49m24.2\u001b[0m\n",
      "\u001b[1m[\u001b[0m\u001b[34;49mnotice\u001b[0m\u001b[1;39;49m]\u001b[0m\u001b[39;49m To update, run: \u001b[0m\u001b[32;49mpip install --upgrade pip\u001b[0m\n",
      "\u001b[31mERROR: pip's dependency resolver does not currently take into account all the packages that are installed. This behaviour is the source of the following dependency conflicts.\n",
      "pyppeteer 1.0.2 requires pyee<9.0.0,>=8.1.0, but you have pyee 11.1.0 which is incompatible.\u001b[0m\u001b[31m\n",
      "\u001b[0m\n",
      "\u001b[1m[\u001b[0m\u001b[34;49mnotice\u001b[0m\u001b[1;39;49m]\u001b[0m\u001b[39;49m A new release of pip is available: \u001b[0m\u001b[31;49m24.0\u001b[0m\u001b[39;49m -> \u001b[0m\u001b[32;49m24.2\u001b[0m\n",
      "\u001b[1m[\u001b[0m\u001b[34;49mnotice\u001b[0m\u001b[1;39;49m]\u001b[0m\u001b[39;49m To update, run: \u001b[0m\u001b[32;49mpip install --upgrade pip\u001b[0m\n",
      "\n",
      "\u001b[1m[\u001b[0m\u001b[34;49mnotice\u001b[0m\u001b[1;39;49m]\u001b[0m\u001b[39;49m A new release of pip is available: \u001b[0m\u001b[31;49m24.0\u001b[0m\u001b[39;49m -> \u001b[0m\u001b[32;49m24.2\u001b[0m\n",
      "\u001b[1m[\u001b[0m\u001b[34;49mnotice\u001b[0m\u001b[1;39;49m]\u001b[0m\u001b[39;49m To update, run: \u001b[0m\u001b[32;49mpip install --upgrade pip\u001b[0m\n",
      "credentials loaded successfully\n",
      "amqp==5.2.0\n",
      "anyio==4.4.0\n",
      "appdirs==1.4.4\n",
      "appnope==0.1.4\n",
      "argon2-cffi==23.1.0\n",
      "argon2-cffi-bindings==21.2.0\n",
      "arrow==1.3.0\n",
      "asgiref==3.8.1\n",
      "asttokens==2.4.1\n",
      "async-lru==2.0.4\n",
      "attrs==23.2.0\n",
      "autobahn==24.4.2\n",
      "Automat==22.10.0\n",
      "Babel==2.15.0\n",
      "backcall==0.2.0\n",
      "basketball_reference_scraper==2.0.0\n",
      "beautifulsoup4==4.12.3\n",
      "billiard==4.2.0\n",
      "bleach==6.1.0\n",
      "boto3==1.26.83\n",
      "botocore==1.29.165\n",
      "bs4==0.0.2\n",
      "celery==5.4.0\n",
      "certifi==2024.6.2\n",
      "cffi==1.16.0\n",
      "channels==4.1.0\n",
      "charset-normalizer==3.3.2\n",
      "click==8.1.7\n",
      "click-didyoumean==0.3.1\n",
      "click-plugins==1.1.1\n",
      "click-repl==0.3.0\n",
      "comm==0.2.2\n",
      "constantly==23.10.4\n",
      "contourpy==1.2.1\n",
      "croniter==3.0.3\n",
      "cryptography==43.0.0\n",
      "cycler==0.12.1\n",
      "daphne==4.1.2\n",
      "debugpy==1.8.1\n",
      "decorator==5.1.1\n",
      "defusedxml==0.7.1\n",
      "dj-rest-auth==3.0.0\n",
      "Django==4.2.7\n",
      "django-allauth==0.52.0\n",
      "django-cors-headers==3.10.1\n",
      "django-drf-filepond==0.4.1\n",
      "django-filter==21.1\n",
      "django-storages==1.14.4\n",
      "djangorestframework==3.14.0\n",
      "docopt==0.6.2\n",
      "execnb==0.1.6\n",
      "executing==2.0.1\n",
      "fastcore==1.6.1\n",
      "fastjsonschema==2.19.1\n",
      "fonttools==4.53.1\n",
      "fqdn==1.5.1\n",
      "future==1.0.0\n",
      "geocoder==1.38.1\n",
      "gevent==24.2.1\n",
      "greenlet==3.0.3\n",
      "h11==0.14.0\n",
      "html5lib==1.1\n",
      "httpcore==1.0.5\n",
      "httpx==0.27.0\n",
      "hyperlink==21.0.0\n",
      "idna==3.7\n",
      "importlib_metadata==8.2.0\n",
      "incremental==24.7.2\n",
      "ipykernel==6.29.4\n",
      "ipython==8.12.3\n",
      "ipython-genutils==0.2.0\n",
      "ipywidgets==8.0.3\n",
      "isoduration==20.11.0\n",
      "itables==2.1.4\n",
      "jedi==0.19.1\n",
      "Jinja2==3.1.4\n",
      "jmespath==1.0.1\n",
      "json5==0.9.25\n",
      "jsonpointer==2.4\n",
      "jsonschema==4.22.0\n",
      "jsonschema-specifications==2023.12.1\n",
      "jupyter==1.0.0\n",
      "jupyter-console==6.6.3\n",
      "jupyter-events==0.10.0\n",
      "jupyter-lsp==2.2.5\n",
      "jupyter_client==8.6.2\n",
      "jupyter_core==5.7.2\n",
      "jupyter_server==2.14.1\n",
      "jupyter_server_terminals==0.5.3\n",
      "jupyterlab==4.2.1\n",
      "jupyterlab_pygments==0.3.0\n",
      "jupyterlab_server==2.27.2\n",
      "jupyterlab_widgets==3.0.11\n",
      "kiwisolver==1.4.5\n",
      "kombu==5.3.7\n",
      "lxml==5.2.2\n",
      "Markdown==3.3.6\n",
      "MarkupSafe==2.1.5\n",
      "matplotlib==3.9.1\n",
      "matplotlib-inline==0.1.7\n",
      "mercury==2.4.3\n",
      "mistune==3.0.2\n",
      "nbclient==0.10.0\n",
      "nbconvert==7.16.4\n",
      "nbformat==5.10.4\n",
      "nest-asyncio==1.6.0\n",
      "notebook==7.2.0\n",
      "notebook_shim==0.2.4\n",
      "numpy==1.26.4\n",
      "oauthlib==3.2.2\n",
      "outcome==1.3.0.post0\n",
      "overrides==7.7.0\n",
      "packaging==24.0\n",
      "pandas==2.2.2\n",
      "pandocfilters==1.5.1\n",
      "parso==0.8.4\n",
      "pdfminer.six==20231228\n",
      "pdfplumber==0.11.2\n",
      "pexpect==4.9.0\n",
      "pickleshare==0.7.5\n",
      "pillow==10.4.0\n",
      "pipreqs==0.5.0\n",
      "platformdirs==4.2.2\n",
      "playwright==1.45.0\n",
      "playwright-stealth==1.0.6\n",
      "plotly==5.23.0\n",
      "prometheus_client==0.20.0\n",
      "prompt_toolkit==3.0.45\n",
      "psutil==5.9.8\n",
      "ptyprocess==0.7.0\n",
      "pure-eval==0.2.2\n",
      "pyasn1==0.6.0\n",
      "pyasn1_modules==0.4.0\n",
      "pycparser==2.22\n",
      "pyee==11.1.0\n",
      "Pygments==2.18.0\n",
      "PyJWT==2.9.0\n",
      "pyOpenSSL==24.2.1\n",
      "pyparsing==3.1.2\n",
      "pypdfium2==4.30.0\n",
      "pyppeteer==1.0.2\n",
      "PySocks==1.7.1\n",
      "python-dateutil==2.9.0.post0\n",
      "python-dotenv==1.0.1\n",
      "python-env==1.0.0\n",
      "python-json-logger==2.0.7\n",
      "python3-openid==3.2.0\n",
      "pytz==2024.1\n",
      "PyYAML==6.0.1\n",
      "pyzmq==26.0.3\n",
      "qtconsole==5.5.2\n",
      "QtPy==2.4.1\n",
      "ratelim==0.1.6\n",
      "redis==5.0.7\n",
      "referencing==0.35.1\n",
      "requests==2.32.3\n",
      "requests-oauthlib==2.0.0\n",
      "rfc3339-validator==0.1.4\n",
      "rfc3986-validator==0.1.1\n",
      "rpds-py==0.18.1\n",
      "s3transfer==0.6.2\n",
      "selenium==4.21.0\n",
      "Send2Trash==1.8.3\n",
      "service-identity==24.1.0\n",
      "shortuuid==1.0.13\n",
      "six==1.16.0\n",
      "sniffio==1.3.1\n",
      "sortedcontainers==2.4.0\n",
      "soupsieve==2.5\n",
      "spotipy==2.24.0\n",
      "SQLAlchemy==1.4.27\n",
      "sqlparse==0.5.1\n",
      "stack-data==0.6.3\n",
      "tenacity==9.0.0\n",
      "terminado==0.18.1\n",
      "tinycss2==1.3.0\n",
      "tornado==6.4\n",
      "tqdm==4.66.4\n",
      "traitlets==5.14.3\n",
      "trio==0.25.1\n",
      "trio-websocket==0.11.1\n",
      "Twisted==24.3.0\n",
      "txaio==23.1.1\n",
      "types-python-dateutil==2.9.0.20240316\n",
      "typing_extensions==4.12.1\n",
      "tzdata==2024.1\n",
      "Unidecode==1.3.8\n",
      "uri-template==1.3.0\n",
      "urllib3==1.26.19\n",
      "vine==5.1.0\n",
      "wcwidth==0.2.13\n",
      "webcolors==1.13\n",
      "webencodings==0.5.1\n",
      "websocket-client==1.8.0\n",
      "websockets==10.4\n",
      "whitenoise==6.7.0\n",
      "widgetsnbextension==4.0.11\n",
      "wsproto==1.2.0\n",
      "yarg==0.1.9\n",
      "zipp==3.19.2\n",
      "zope.event==5.0\n",
      "zope.interface==6.4.post2\n"
     ]
    }
   ],
   "source": [
    "mr.Md(f\"\"\"Starting process...\"\"\")\n",
    "!pip install -U urllib3 -q\n",
    "!pip install urllib3==1.26.19 -q\n",
    "!pip install spotipy -q\n",
    "\n",
    "print(\"packages loaded\")\n",
    "\n",
    "from dotenv import load_dotenv\n",
    "\n",
    "_ = load_dotenv()\n",
    "\n",
    "project_api_key=os.environ.get('project_api_key')\n",
    "project_api_key_secret= os.environ.get('project_api_key_secret')\n",
    "\n",
    "if project_api_key is not None and project_api_key_secret is not None:\n",
    "    print(\"credentials loaded successfully\")\n",
    "else:\n",
    "    print(\"credentials didn't loaded successfully\")\n",
    "\n"
   ]
  },
  {
   "cell_type": "code",
   "execution_count": null,
   "id": "ee69da0f-69b1-4d71-8aff-c077a68e9675",
   "metadata": {},
   "outputs": [],
   "source": [
    "mr.Md(f\"\"\"## Okay, let's test {artistInput.value}!\"\"\")"
   ]
  },
  {
   "cell_type": "code",
   "execution_count": 13,
   "id": "e82683db-07f4-43af-a7ea-512b18194cbb",
   "metadata": {},
   "outputs": [],
   "source": [
    "\n",
    "import pandas as pd\n",
    "import spotipy\n",
    "import os\n",
    "\n",
    "from spotipy.oauth2 import SpotifyClientCredentials\n",
    "\n",
    "spotify = spotipy.Spotify(auth_manager=SpotifyClientCredentials(\n",
    "     project_api_key,\n",
    "     project_api_key_secret,\n",
    "))\n",
    "\n",
    "results = spotify.search(q='artist: '+ artistInput.value, type='artist')\n",
    "uri = pd.Series([results['artists']['items'][0]['uri']])\n",
    "uri = uri.str.replace('spotify:artist:', '')\n",
    "\n",
    "#print(uri)\n",
    "\n",
    "url = \"https://open.spotify.com/artist/\"+uri[0]\n",
    "#print(url)\n",
    "\n",
    "from playwright.async_api import async_playwright\n",
    "from playwright_stealth import stealth_async\n",
    "# !pip -q install playwright-stealth\n",
    "\n",
    "playwright = await async_playwright().start()\n",
    "browser = await playwright.chromium.launch(headless = True)\n",
    "page = await browser.new_page()\n",
    "\n",
    "await page.goto(url)\n",
    "\n",
    "all_Tay = page.locator('See more')\n",
    "await page.click('text=See more')\n",
    "\n",
    "from bs4 import BeautifulSoup\n",
    "\n",
    "doc = BeautifulSoup(await page.content())\n",
    "\n",
    "top_songs = doc.find_all('div', role='row')\n",
    "\n",
    "rows = []\n",
    "rank = 1\n",
    "artists = []\n",
    "title = doc.find_all(class_ = \"encore-text encore-text-headline-large encore-internal-color-text-base\")\n",
    "top_songs = doc.find_all('div', role='row')\n",
    "for song in top_songs:\n",
    "    #print(\"----\")\n",
    "\n",
    "    row = {}\n",
    "\n",
    "    try:\n",
    "        row['title'] = song.find(class_=\"encore-text encore-text-body-medium encore-internal-color-text-base btE2c3IKaOXZ4VNAb8WQ standalone-ellipsis-one-line\").text\n",
    "    except:\n",
    "        row['title'] = None\n",
    "\n",
    "    try:\n",
    "         row['artist'] = title[0].text\n",
    "    except:\n",
    "         row['artist'] = None\n",
    "\n",
    "    try:\n",
    "        row['play_count'] = song.find(class_=\"encore-text encore-text-body-small HxDMwNr5oCxTOyqt85gi\").text\n",
    "    except:\n",
    "        row['play_count'] = None\n",
    "\n",
    "    rows.append(row)\n",
    "\n",
    "dataTime = pd.DataFrame(rows)\n",
    "\n",
    "dataTime['play_count'] = dataTime['play_count'].str.replace(\",\",\"\")\n",
    "dataTime['play_count'] = dataTime['play_count'].astype(int)\n",
    "dataTime = dataTime.sort_values(by = 'play_count', ascending = False)\n",
    "dataTime['rank'] = [1,2,3,4,5,6,7,8,9,10]\n",
    "dataTime.set_index('rank', inplace = True)\n",
    "\n",
    "percentage = (dataTime['play_count'][1]/sum(dataTime['play_count']))*100\n",
    "\n",
    "if percentage < 85:\n",
    "    # print(f\"Your artist, {artistInput.value}, is NOT a one hit wonder!\")\n",
    "    # print(f\"Their top song, {dataTime['title'][1]}, made up {percentage}% of their total listens of {sum(dataTime['play_count'])} at {dataTime['play_count'][1]}\")\n",
    "    yesOrNo = \"IS NOT\"\n",
    "else:\n",
    "    # print(f\"Your artist, {artistInput.value}, IS a one hit wonder!\")\n",
    "    # print(f\"Their top song, {dataTime['title'][1]}, made up {percentage}% of their total listens of {sum(dataTime['play_count'])} at {dataTime['play_count'][1]}\")\n",
    "    yesOrNo = \"IS\"\n",
    "\n",
    "#dataTime"
   ]
  },
  {
   "cell_type": "code",
   "execution_count": 14,
   "id": "8bf75b75-e010-43fd-a3ae-8575ce7b5134",
   "metadata": {},
   "outputs": [
    {
     "data": {
      "text/markdown": [
       "## Your artist, Caravan Palace, IS NOT a one hit wonder!"
      ],
      "text/plain": [
       "<IPython.core.display.Markdown object>"
      ]
     },
     "metadata": {},
     "output_type": "display_data"
    }
   ],
   "source": [
    "mr.Md(f\"\"\"## Your artist, {artistInput.value}, {yesOrNo} a one hit wonder!\"\"\")"
   ]
  },
  {
   "cell_type": "code",
   "execution_count": 15,
   "id": "38b51e5d-b5b5-4627-bf24-4a16fd16f25f",
   "metadata": {},
   "outputs": [
    {
     "data": {
      "text/markdown": [
       "## Their top song, Lone Digger, made up 38.073144390487066% of their total listens of 514356600 at 195831731"
      ],
      "text/plain": [
       "<IPython.core.display.Markdown object>"
      ]
     },
     "metadata": {},
     "output_type": "display_data"
    }
   ],
   "source": [
    "mr.Md(f\"\"\"## Their top song, {dataTime['title'][1]}, made up {percentage}% of their total listens of {sum(dataTime['play_count'])} at {dataTime['play_count'][1]}\"\"\")"
   ]
  },
  {
   "cell_type": "code",
   "execution_count": null,
   "id": "59531134-a9ac-425f-b2cd-3742c3d0cba6",
   "metadata": {},
   "outputs": [],
   "source": []
  }
 ],
 "metadata": {
  "kernelspec": {
   "display_name": "Python 3 (ipykernel)",
   "language": "python",
   "name": "python3"
  },
  "language_info": {
   "codemirror_mode": {
    "name": "ipython",
    "version": 3
   },
   "file_extension": ".py",
   "mimetype": "text/x-python",
   "name": "python",
   "nbconvert_exporter": "python",
   "pygments_lexer": "ipython3",
   "version": "3.11.8"
  }
 },
 "nbformat": 4,
 "nbformat_minor": 5
}
